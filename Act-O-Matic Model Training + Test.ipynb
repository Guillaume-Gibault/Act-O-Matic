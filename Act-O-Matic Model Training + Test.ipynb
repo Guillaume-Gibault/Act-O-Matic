{
 "nbformat": 4,
 "nbformat_minor": 0,
 "metadata": {
  "colab": {
   "provenance": [],
   "authorship_tag": "ABX9TyPRtSnNpvsI1SEb4oyEs51W"
  },
  "kernelspec": {
   "name": "python3",
   "display_name": "Python 3 (ipykernel)",
   "language": "python"
  },
  "language_info": {
   "name": "python"
  }
 },
 "cells": [
  {
   "cell_type": "code",
   "source": [
    "import os\n",
    "import numpy as np\n",
    "import tensorflow as tf\n",
    "from tensorflow.keras.preprocessing.image import ImageDataGenerator\n",
    "from tensorflow.keras.applications import MobileNetV2\n",
    "from tensorflow.keras.models import Model\n",
    "from tensorflow.keras.layers import Dense, GlobalAveragePooling2D\n",
    "from tensorflow.keras.optimizers import Adam"
   ],
   "metadata": {
    "id": "qhvCU9XHHddM",
    "executionInfo": {
     "status": "ok",
     "timestamp": 1737446898892,
     "user_tz": -60,
     "elapsed": 187,
     "user": {
      "displayName": "Tom Desrumeaux",
      "userId": "17613307837492517386"
     }
    },
    "ExecuteTime": {
     "end_time": "2025-01-21T08:21:32.504098Z",
     "start_time": "2025-01-21T08:21:20.337947Z"
    }
   },
   "outputs": [],
   "execution_count": 3
  },
  {
   "cell_type": "code",
   "source": [
    "# Configurations\n",
    "input_directory = r\"C:\\Users\\33658\\Documents\\CelebrityFacesCropped\\Celebrity Faces Cropped\"  # Dataset cropped\n",
    "image_size = (224, 224)  # Taille des images pour MobileNetV2\n",
    "learning_rate = 0.0008\n",
    "batch_size = 32\n"
   ],
   "metadata": {
    "id": "neHgFGFvHM1J",
    "executionInfo": {
     "status": "ok",
     "timestamp": 1737446953178,
     "user_tz": -60,
     "elapsed": 251,
     "user": {
      "displayName": "Tom Desrumeaux",
      "userId": "17613307837492517386"
     }
    },
    "ExecuteTime": {
     "end_time": "2025-01-21T08:21:37.171392Z",
     "start_time": "2025-01-21T08:21:37.167667Z"
    }
   },
   "outputs": [],
   "execution_count": 4
  },
  {
   "cell_type": "code",
   "source": [
    "\n",
    "# Étape 1 : Préparer les données\n",
    "datagen = ImageDataGenerator(\n",
    "    rescale=1.0 / 255,  # Normaliser les pixels\n",
    "    validation_split=0.2,  # 20% pour la validation\n",
    "    horizontal_flip=True,  # Augmenter les données\n",
    "    zoom_range=0.2\n",
    ")\n",
    "\n",
    "train_generator = datagen.flow_from_directory(\n",
    "    input_directory,\n",
    "    target_size=image_size,\n",
    "    batch_size=batch_size,\n",
    "    class_mode=\"categorical\",\n",
    "    subset=\"training\"\n",
    ")\n",
    "\n",
    "validation_generator = datagen.flow_from_directory(\n",
    "    input_directory,\n",
    "    target_size=image_size,\n",
    "    batch_size=batch_size,\n",
    "    class_mode=\"categorical\",\n",
    "    subset=\"validation\"\n",
    ")"
   ],
   "metadata": {
    "colab": {
     "base_uri": "https://localhost:8080/"
    },
    "id": "NTqIChvtHjya",
    "executionInfo": {
     "status": "ok",
     "timestamp": 1737446955501,
     "user_tz": -60,
     "elapsed": 1131,
     "user": {
      "displayName": "Tom Desrumeaux",
      "userId": "17613307837492517386"
     }
    },
    "outputId": "2051e99b-0aa8-45a7-e7f6-b49d6fca7e3a",
    "ExecuteTime": {
     "end_time": "2025-01-21T08:21:40.287929Z",
     "start_time": "2025-01-21T08:21:40.244588Z"
    }
   },
   "outputs": [
    {
     "name": "stdout",
     "output_type": "stream",
     "text": [
      "Found 565 images belonging to 9 classes.\n",
      "Found 136 images belonging to 9 classes.\n"
     ]
    }
   ],
   "execution_count": 5
  },
  {
   "cell_type": "code",
   "source": [
    "# Étape 2 : Construire le modèle\n",
    "base_model = MobileNetV2(weights=\"imagenet\", include_top=False, input_shape=(224, 224, 3))\n",
    "x = base_model.output\n",
    "x = GlobalAveragePooling2D()(x)\n",
    "x = Dense(128, activation=\"relu\")(x)\n",
    "predictions = Dense(train_generator.num_classes, activation=\"softmax\")(x)\n",
    "\n",
    "model = Model(inputs=base_model.input, outputs=predictions)\n",
    "\n",
    "# Geler les couches du modèle de base\n",
    "for layer in base_model.layers:\n",
    "    layer.trainable = False"
   ],
   "metadata": {
    "id": "u3CtMQcxHUOb",
    "executionInfo": {
     "status": "ok",
     "timestamp": 1737418479557,
     "user_tz": -60,
     "elapsed": 900,
     "user": {
      "displayName": "Tom Desrumeaux",
      "userId": "17613307837492517386"
     }
    },
    "ExecuteTime": {
     "end_time": "2025-01-21T08:21:51.942981Z",
     "start_time": "2025-01-21T08:21:51.033979Z"
    }
   },
   "outputs": [],
   "execution_count": 6
  },
  {
   "cell_type": "code",
   "source": [
    "# Étape 3 : Compiler le modèle\n",
    "model.compile(optimizer=Adam(learning_rate=learning_rate),\n",
    "              loss=\"categorical_crossentropy\",\n",
    "              metrics=[\"accuracy\"])\n"
   ],
   "metadata": {
    "id": "4osGTgx7HW6L",
    "executionInfo": {
     "status": "ok",
     "timestamp": 1737418479558,
     "user_tz": -60,
     "elapsed": 4,
     "user": {
      "displayName": "Tom Desrumeaux",
      "userId": "17613307837492517386"
     }
    },
    "ExecuteTime": {
     "end_time": "2025-01-21T08:21:56.006236Z",
     "start_time": "2025-01-21T08:21:55.993229Z"
    }
   },
   "outputs": [],
   "execution_count": 7
  },
  {
   "cell_type": "code",
   "source": [
    "from tensorflow.keras.callbacks import EarlyStopping\n",
    "\n",
    "# Configurer Early Stopping\n",
    "early_stopping = EarlyStopping(\n",
    "    monitor=\"val_loss\",  # Surveiller la perte sur l'ensemble de validation\n",
    "    patience=25,          # Nombre d'époques sans amélioration avant d'arrêter\n",
    "    restore_best_weights=True,  # Restaurer les poids correspondant à la meilleure époque\n",
    "    verbose=1            # Afficher un message lorsque l'entraînement s'arrête\n",
    ")\n"
   ],
   "metadata": {
    "id": "yG_74riZ7fI1",
    "executionInfo": {
     "status": "ok",
     "timestamp": 1737418479558,
     "user_tz": -60,
     "elapsed": 3,
     "user": {
      "displayName": "Tom Desrumeaux",
      "userId": "17613307837492517386"
     }
    },
    "ExecuteTime": {
     "end_time": "2025-01-21T08:22:00.222681Z",
     "start_time": "2025-01-21T08:22:00.216556Z"
    }
   },
   "outputs": [],
   "execution_count": 8
  },
  {
   "cell_type": "code",
   "source": [
    "# Étape 4 : Entraîner le modèle\n",
    "num_epochs = 125\n",
    "\n",
    "history = model.fit(\n",
    "    train_generator,\n",
    "    validation_data=validation_generator,\n",
    "    epochs=num_epochs,\n",
    "    steps_per_epoch=train_generator.samples // batch_size,\n",
    "    validation_steps=validation_generator.samples // batch_size,\n",
    "    callbacks=[early_stopping]  # Ajouter le callback Early Stopping\n",
    ")"
   ],
   "metadata": {
    "colab": {
     "base_uri": "https://localhost:8080/"
    },
    "id": "H7m4xIgkHZEl",
    "executionInfo": {
     "status": "ok",
     "timestamp": 1737419553324,
     "user_tz": -60,
     "elapsed": 1073769,
     "user": {
      "displayName": "Tom Desrumeaux",
      "userId": "17613307837492517386"
     }
    },
    "outputId": "41185004-da9f-4c85-dd20-38b9c17bbb11",
    "ExecuteTime": {
     "end_time": "2025-01-21T08:26:43.550889Z",
     "start_time": "2025-01-21T08:22:06.387309Z"
    }
   },
   "outputs": [
    {
     "name": "stdout",
     "output_type": "stream",
     "text": [
      "Epoch 1/125\n"
     ]
    },
    {
     "name": "stderr",
     "output_type": "stream",
     "text": [
      "C:\\Users\\33658\\AppData\\Local\\Programs\\Python\\Python312\\Lib\\site-packages\\keras\\src\\trainers\\data_adapters\\py_dataset_adapter.py:121: UserWarning: Your `PyDataset` class should call `super().__init__(**kwargs)` in its constructor. `**kwargs` can include `workers`, `use_multiprocessing`, `max_queue_size`. Do not pass these arguments to `fit()`, as they will be ignored.\n",
      "  self._warn_if_super_not_called()\n"
     ]
    },
    {
     "name": "stdout",
     "output_type": "stream",
     "text": [
      "\u001B[1m17/17\u001B[0m \u001B[32m━━━━━━━━━━━━━━━━━━━━\u001B[0m\u001B[37m\u001B[0m \u001B[1m20s\u001B[0m 819ms/step - accuracy: 0.2254 - loss: 2.1532 - val_accuracy: 0.5234 - val_loss: 1.4384\n",
      "Epoch 2/125\n",
      "\u001B[1m17/17\u001B[0m \u001B[32m━━━━━━━━━━━━━━━━━━━━\u001B[0m\u001B[37m\u001B[0m \u001B[1m0s\u001B[0m 12ms/step - accuracy: 0.3750 - loss: 1.5860 - val_accuracy: 0.7500 - val_loss: 1.5546\n",
      "Epoch 3/125\n"
     ]
    },
    {
     "name": "stderr",
     "output_type": "stream",
     "text": [
      "C:\\Users\\33658\\AppData\\Local\\Programs\\Python\\Python312\\Lib\\contextlib.py:158: UserWarning: Your input ran out of data; interrupting training. Make sure that your dataset or generator can generate at least `steps_per_epoch * epochs` batches. You may need to use the `.repeat()` function when building your dataset.\n",
      "  self.gen.throw(value)\n"
     ]
    },
    {
     "name": "stdout",
     "output_type": "stream",
     "text": [
      "\u001B[1m17/17\u001B[0m \u001B[32m━━━━━━━━━━━━━━━━━━━━\u001B[0m\u001B[37m\u001B[0m \u001B[1m8s\u001B[0m 395ms/step - accuracy: 0.5897 - loss: 1.3766 - val_accuracy: 0.7031 - val_loss: 1.0577\n",
      "Epoch 4/125\n",
      "\u001B[1m17/17\u001B[0m \u001B[32m━━━━━━━━━━━━━━━━━━━━\u001B[0m\u001B[37m\u001B[0m \u001B[1m0s\u001B[0m 5ms/step - accuracy: 0.6875 - loss: 1.1964 - val_accuracy: 0.6250 - val_loss: 1.4525\n",
      "Epoch 5/125\n",
      "\u001B[1m17/17\u001B[0m \u001B[32m━━━━━━━━━━━━━━━━━━━━\u001B[0m\u001B[37m\u001B[0m \u001B[1m9s\u001B[0m 393ms/step - accuracy: 0.6684 - loss: 1.0371 - val_accuracy: 0.7969 - val_loss: 0.8049\n",
      "Epoch 6/125\n",
      "\u001B[1m17/17\u001B[0m \u001B[32m━━━━━━━━━━━━━━━━━━━━\u001B[0m\u001B[37m\u001B[0m \u001B[1m0s\u001B[0m 6ms/step - accuracy: 0.7188 - loss: 0.9673 - val_accuracy: 0.8750 - val_loss: 0.5283\n",
      "Epoch 7/125\n",
      "\u001B[1m17/17\u001B[0m \u001B[32m━━━━━━━━━━━━━━━━━━━━\u001B[0m\u001B[37m\u001B[0m \u001B[1m8s\u001B[0m 401ms/step - accuracy: 0.6830 - loss: 0.9719 - val_accuracy: 0.8203 - val_loss: 0.7080\n",
      "Epoch 8/125\n",
      "\u001B[1m17/17\u001B[0m \u001B[32m━━━━━━━━━━━━━━━━━━━━\u001B[0m\u001B[37m\u001B[0m \u001B[1m0s\u001B[0m 6ms/step - accuracy: 0.8750 - loss: 0.5542 - val_accuracy: 0.5000 - val_loss: 1.4103\n",
      "Epoch 9/125\n",
      "\u001B[1m17/17\u001B[0m \u001B[32m━━━━━━━━━━━━━━━━━━━━\u001B[0m\u001B[37m\u001B[0m \u001B[1m9s\u001B[0m 422ms/step - accuracy: 0.7652 - loss: 0.7587 - val_accuracy: 0.8438 - val_loss: 0.6565\n",
      "Epoch 10/125\n",
      "\u001B[1m17/17\u001B[0m \u001B[32m━━━━━━━━━━━━━━━━━━━━\u001B[0m\u001B[37m\u001B[0m \u001B[1m0s\u001B[0m 8ms/step - accuracy: 0.8438 - loss: 0.5845 - val_accuracy: 0.8750 - val_loss: 0.4518\n",
      "Epoch 11/125\n",
      "\u001B[1m17/17\u001B[0m \u001B[32m━━━━━━━━━━━━━━━━━━━━\u001B[0m\u001B[37m\u001B[0m \u001B[1m10s\u001B[0m 481ms/step - accuracy: 0.8135 - loss: 0.6362 - val_accuracy: 0.8672 - val_loss: 0.5884\n",
      "Epoch 12/125\n",
      "\u001B[1m17/17\u001B[0m \u001B[32m━━━━━━━━━━━━━━━━━━━━\u001B[0m\u001B[37m\u001B[0m \u001B[1m0s\u001B[0m 8ms/step - accuracy: 0.8438 - loss: 0.5359 - val_accuracy: 0.6250 - val_loss: 0.9461\n",
      "Epoch 13/125\n",
      "\u001B[1m17/17\u001B[0m \u001B[32m━━━━━━━━━━━━━━━━━━━━\u001B[0m\u001B[37m\u001B[0m \u001B[1m12s\u001B[0m 560ms/step - accuracy: 0.8525 - loss: 0.5309 - val_accuracy: 0.8281 - val_loss: 0.5632\n",
      "Epoch 14/125\n",
      "\u001B[1m17/17\u001B[0m \u001B[32m━━━━━━━━━━━━━━━━━━━━\u001B[0m\u001B[37m\u001B[0m \u001B[1m0s\u001B[0m 7ms/step - accuracy: 0.7188 - loss: 0.8905 - val_accuracy: 0.5000 - val_loss: 0.9203\n",
      "Epoch 15/125\n",
      "\u001B[1m17/17\u001B[0m \u001B[32m━━━━━━━━━━━━━━━━━━━━\u001B[0m\u001B[37m\u001B[0m \u001B[1m11s\u001B[0m 522ms/step - accuracy: 0.8648 - loss: 0.4808 - val_accuracy: 0.8125 - val_loss: 0.5246\n",
      "Epoch 16/125\n",
      "\u001B[1m17/17\u001B[0m \u001B[32m━━━━━━━━━━━━━━━━━━━━\u001B[0m\u001B[37m\u001B[0m \u001B[1m0s\u001B[0m 10ms/step - accuracy: 0.9375 - loss: 0.4241 - val_accuracy: 1.0000 - val_loss: 0.2720\n",
      "Epoch 17/125\n",
      "\u001B[1m17/17\u001B[0m \u001B[32m━━━━━━━━━━━━━━━━━━━━\u001B[0m\u001B[37m\u001B[0m \u001B[1m11s\u001B[0m 568ms/step - accuracy: 0.8743 - loss: 0.4443 - val_accuracy: 0.8750 - val_loss: 0.5069\n",
      "Epoch 18/125\n",
      "\u001B[1m17/17\u001B[0m \u001B[32m━━━━━━━━━━━━━━━━━━━━\u001B[0m\u001B[37m\u001B[0m \u001B[1m0s\u001B[0m 8ms/step - accuracy: 1.0000 - loss: 0.3242 - val_accuracy: 0.8750 - val_loss: 0.5352\n",
      "Epoch 19/125\n",
      "\u001B[1m17/17\u001B[0m \u001B[32m━━━━━━━━━━━━━━━━━━━━\u001B[0m\u001B[37m\u001B[0m \u001B[1m13s\u001B[0m 641ms/step - accuracy: 0.8955 - loss: 0.3867 - val_accuracy: 0.8984 - val_loss: 0.4037\n",
      "Epoch 20/125\n",
      "\u001B[1m17/17\u001B[0m \u001B[32m━━━━━━━━━━━━━━━━━━━━\u001B[0m\u001B[37m\u001B[0m \u001B[1m0s\u001B[0m 10ms/step - accuracy: 0.9375 - loss: 0.3963 - val_accuracy: 0.7500 - val_loss: 0.4882\n",
      "Epoch 21/125\n",
      "\u001B[1m17/17\u001B[0m \u001B[32m━━━━━━━━━━━━━━━━━━━━\u001B[0m\u001B[37m\u001B[0m \u001B[1m14s\u001B[0m 697ms/step - accuracy: 0.8674 - loss: 0.3722 - val_accuracy: 0.8594 - val_loss: 0.4600\n",
      "Epoch 22/125\n",
      "\u001B[1m17/17\u001B[0m \u001B[32m━━━━━━━━━━━━━━━━━━━━\u001B[0m\u001B[37m\u001B[0m \u001B[1m1s\u001B[0m 13ms/step - accuracy: 0.9375 - loss: 0.3006 - val_accuracy: 1.0000 - val_loss: 0.1067\n",
      "Epoch 23/125\n",
      "\u001B[1m17/17\u001B[0m \u001B[32m━━━━━━━━━━━━━━━━━━━━\u001B[0m\u001B[37m\u001B[0m \u001B[1m13s\u001B[0m 647ms/step - accuracy: 0.8857 - loss: 0.3633 - val_accuracy: 0.8125 - val_loss: 0.6018\n",
      "Epoch 24/125\n",
      "\u001B[1m17/17\u001B[0m \u001B[32m━━━━━━━━━━━━━━━━━━━━\u001B[0m\u001B[37m\u001B[0m \u001B[1m0s\u001B[0m 10ms/step - accuracy: 0.9062 - loss: 0.4549 - val_accuracy: 0.7500 - val_loss: 1.2339\n",
      "Epoch 25/125\n",
      "\u001B[1m17/17\u001B[0m \u001B[32m━━━━━━━━━━━━━━━━━━━━\u001B[0m\u001B[37m\u001B[0m \u001B[1m13s\u001B[0m 642ms/step - accuracy: 0.9053 - loss: 0.3657 - val_accuracy: 0.8750 - val_loss: 0.4220\n",
      "Epoch 26/125\n",
      "\u001B[1m17/17\u001B[0m \u001B[32m━━━━━━━━━━━━━━━━━━━━\u001B[0m\u001B[37m\u001B[0m \u001B[1m0s\u001B[0m 9ms/step - accuracy: 0.8750 - loss: 0.4704 - val_accuracy: 0.7500 - val_loss: 0.4907\n",
      "Epoch 27/125\n",
      "\u001B[1m17/17\u001B[0m \u001B[32m━━━━━━━━━━━━━━━━━━━━\u001B[0m\u001B[37m\u001B[0m \u001B[1m13s\u001B[0m 649ms/step - accuracy: 0.9289 - loss: 0.2671 - val_accuracy: 0.8984 - val_loss: 0.4068\n",
      "Epoch 28/125\n",
      "\u001B[1m17/17\u001B[0m \u001B[32m━━━━━━━━━━━━━━━━━━━━\u001B[0m\u001B[37m\u001B[0m \u001B[1m0s\u001B[0m 10ms/step - accuracy: 0.9062 - loss: 0.3303 - val_accuracy: 0.8750 - val_loss: 0.3618\n",
      "Epoch 29/125\n",
      "\u001B[1m17/17\u001B[0m \u001B[32m━━━━━━━━━━━━━━━━━━━━\u001B[0m\u001B[37m\u001B[0m \u001B[1m13s\u001B[0m 659ms/step - accuracy: 0.9222 - loss: 0.2883 - val_accuracy: 0.8828 - val_loss: 0.3663\n",
      "Epoch 30/125\n",
      "\u001B[1m17/17\u001B[0m \u001B[32m━━━━━━━━━━━━━━━━━━━━\u001B[0m\u001B[37m\u001B[0m \u001B[1m1s\u001B[0m 10ms/step - accuracy: 0.9688 - loss: 0.3117 - val_accuracy: 0.7500 - val_loss: 0.4520\n",
      "Epoch 31/125\n",
      "\u001B[1m17/17\u001B[0m \u001B[32m━━━━━━━━━━━━━━━━━━━━\u001B[0m\u001B[37m\u001B[0m \u001B[1m10s\u001B[0m 487ms/step - accuracy: 0.9352 - loss: 0.2232 - val_accuracy: 0.8984 - val_loss: 0.3821\n",
      "Epoch 32/125\n",
      "\u001B[1m17/17\u001B[0m \u001B[32m━━━━━━━━━━━━━━━━━━━━\u001B[0m\u001B[37m\u001B[0m \u001B[1m0s\u001B[0m 6ms/step - accuracy: 0.9688 - loss: 0.1759 - val_accuracy: 0.8750 - val_loss: 0.6045\n",
      "Epoch 33/125\n",
      "\u001B[1m17/17\u001B[0m \u001B[32m━━━━━━━━━━━━━━━━━━━━\u001B[0m\u001B[37m\u001B[0m \u001B[1m9s\u001B[0m 432ms/step - accuracy: 0.9560 - loss: 0.2081 - val_accuracy: 0.9062 - val_loss: 0.3489\n",
      "Epoch 34/125\n",
      "\u001B[1m17/17\u001B[0m \u001B[32m━━━━━━━━━━━━━━━━━━━━\u001B[0m\u001B[37m\u001B[0m \u001B[1m0s\u001B[0m 6ms/step - accuracy: 0.9688 - loss: 0.2584 - val_accuracy: 0.8750 - val_loss: 0.3891\n",
      "Epoch 35/125\n",
      "\u001B[1m17/17\u001B[0m \u001B[32m━━━━━━━━━━━━━━━━━━━━\u001B[0m\u001B[37m\u001B[0m \u001B[1m9s\u001B[0m 459ms/step - accuracy: 0.9653 - loss: 0.2173 - val_accuracy: 0.8906 - val_loss: 0.3545\n",
      "Epoch 36/125\n",
      "\u001B[1m17/17\u001B[0m \u001B[32m━━━━━━━━━━━━━━━━━━━━\u001B[0m\u001B[37m\u001B[0m \u001B[1m0s\u001B[0m 7ms/step - accuracy: 1.0000 - loss: 0.0753 - val_accuracy: 0.8750 - val_loss: 0.4625\n",
      "Epoch 37/125\n",
      "\u001B[1m17/17\u001B[0m \u001B[32m━━━━━━━━━━━━━━━━━━━━\u001B[0m\u001B[37m\u001B[0m \u001B[1m9s\u001B[0m 437ms/step - accuracy: 0.9472 - loss: 0.1901 - val_accuracy: 0.9062 - val_loss: 0.2981\n",
      "Epoch 38/125\n",
      "\u001B[1m17/17\u001B[0m \u001B[32m━━━━━━━━━━━━━━━━━━━━\u001B[0m\u001B[37m\u001B[0m \u001B[1m0s\u001B[0m 6ms/step - accuracy: 1.0000 - loss: 0.1479 - val_accuracy: 0.7500 - val_loss: 0.4001\n",
      "Epoch 39/125\n",
      "\u001B[1m17/17\u001B[0m \u001B[32m━━━━━━━━━━━━━━━━━━━━\u001B[0m\u001B[37m\u001B[0m \u001B[1m9s\u001B[0m 460ms/step - accuracy: 0.9742 - loss: 0.1622 - val_accuracy: 0.9141 - val_loss: 0.2513\n",
      "Epoch 40/125\n",
      "\u001B[1m17/17\u001B[0m \u001B[32m━━━━━━━━━━━━━━━━━━━━\u001B[0m\u001B[37m\u001B[0m \u001B[1m0s\u001B[0m 6ms/step - accuracy: 1.0000 - loss: 0.1458 - val_accuracy: 0.7500 - val_loss: 0.5733\n",
      "Epoch 41/125\n",
      "\u001B[1m17/17\u001B[0m \u001B[32m━━━━━━━━━━━━━━━━━━━━\u001B[0m\u001B[37m\u001B[0m \u001B[1m10s\u001B[0m 483ms/step - accuracy: 0.9666 - loss: 0.1750 - val_accuracy: 0.8906 - val_loss: 0.3419\n",
      "Epoch 42/125\n",
      "\u001B[1m17/17\u001B[0m \u001B[32m━━━━━━━━━━━━━━━━━━━━\u001B[0m\u001B[37m\u001B[0m \u001B[1m0s\u001B[0m 8ms/step - accuracy: 0.9688 - loss: 0.1057 - val_accuracy: 1.0000 - val_loss: 0.1598\n",
      "Epoch 43/125\n",
      "\u001B[1m17/17\u001B[0m \u001B[32m━━━━━━━━━━━━━━━━━━━━\u001B[0m\u001B[37m\u001B[0m \u001B[1m10s\u001B[0m 516ms/step - accuracy: 0.9746 - loss: 0.1346 - val_accuracy: 0.8750 - val_loss: 0.3011\n",
      "Epoch 44/125\n",
      "\u001B[1m17/17\u001B[0m \u001B[32m━━━━━━━━━━━━━━━━━━━━\u001B[0m\u001B[37m\u001B[0m \u001B[1m0s\u001B[0m 7ms/step - accuracy: 0.9688 - loss: 0.1548 - val_accuracy: 1.0000 - val_loss: 0.1511\n",
      "Epoch 45/125\n",
      "\u001B[1m17/17\u001B[0m \u001B[32m━━━━━━━━━━━━━━━━━━━━\u001B[0m\u001B[37m\u001B[0m \u001B[1m11s\u001B[0m 543ms/step - accuracy: 0.9589 - loss: 0.1805 - val_accuracy: 0.8984 - val_loss: 0.3658\n",
      "Epoch 46/125\n",
      "\u001B[1m17/17\u001B[0m \u001B[32m━━━━━━━━━━━━━━━━━━━━\u001B[0m\u001B[37m\u001B[0m \u001B[1m0s\u001B[0m 9ms/step - accuracy: 0.9688 - loss: 0.1250 - val_accuracy: 1.0000 - val_loss: 0.1359\n",
      "Epoch 47/125\n",
      "\u001B[1m17/17\u001B[0m \u001B[32m━━━━━━━━━━━━━━━━━━━━\u001B[0m\u001B[37m\u001B[0m \u001B[1m13s\u001B[0m 673ms/step - accuracy: 0.9541 - loss: 0.1783 - val_accuracy: 0.8828 - val_loss: 0.3070\n",
      "Epoch 47: early stopping\n",
      "Restoring model weights from the end of the best epoch: 22.\n"
     ]
    }
   ],
   "execution_count": 9
  },
  {
   "cell_type": "code",
   "source": [
    "# Étape 5 : Sauvegarder le modèle\n",
    "model.save(\"actor_recognition_model_night.h5\")\n",
    "model.save('actor_recognition_model_night.keras')\n",
    "print(\"Modèle sauvegardé avec succès !\")"
   ],
   "metadata": {
    "colab": {
     "base_uri": "https://localhost:8080/",
     "height": 198
    },
    "id": "PiSPmCifHaz4",
    "executionInfo": {
     "status": "error",
     "timestamp": 1737443487128,
     "user_tz": -60,
     "elapsed": 240,
     "user": {
      "displayName": "Tom Desrumeaux",
      "userId": "17613307837492517386"
     }
    },
    "outputId": "d4a250d2-5972-480a-b60a-571965adc015",
    "ExecuteTime": {
     "end_time": "2025-01-21T08:27:57.301487Z",
     "start_time": "2025-01-21T08:27:56.957345Z"
    }
   },
   "outputs": [
    {
     "name": "stderr",
     "output_type": "stream",
     "text": [
      "WARNING:absl:You are saving your model as an HDF5 file via `model.save()` or `keras.saving.save_model(model)`. This file format is considered legacy. We recommend using instead the native Keras format, e.g. `model.save('my_model.keras')` or `keras.saving.save_model(model, 'my_model.keras')`. \n"
     ]
    },
    {
     "name": "stdout",
     "output_type": "stream",
     "text": [
      "Modèle sauvegardé avec succès !\n"
     ]
    }
   ],
   "execution_count": 10
  },
  {
   "cell_type": "markdown",
   "source": [
    "Test du modele"
   ],
   "metadata": {
    "id": "4FYX2IOjMy1r"
   }
  },
  {
   "cell_type": "code",
   "source": [
    "from tensorflow.keras.preprocessing import image\n",
    "from tensorflow.keras.models import load_model\n",
    "import numpy as np\n",
    "\n",
    "# Charger le modèle\n",
    "model = load_model(\"/content/drive/MyDrive/Colab Notebooks/actor_recognition_model_night.h5\")\n",
    "\n",
    "# Charger une image de test\n",
    "img_path = \"/content/drive/MyDrive/Colab Notebooks/Data/cruise_test2.jpg\"\n",
    "img = image.load_img(img_path, target_size=(224, 224))\n",
    "img_array = image.img_to_array(img) / 255.0\n",
    "img_array = np.expand_dims(img_array, axis=0)\n",
    "\n",
    "# Prédiction\n",
    "predictions = model.predict(img_array)\n",
    "predicted_class = np.argmax(predictions)\n",
    "class_labels = list(train_generator.class_indices.keys())\n",
    "print(f\"L'acteur prédit est : {class_labels[predicted_class]}\")\n"
   ],
   "metadata": {
    "colab": {
     "base_uri": "https://localhost:8080/"
    },
    "id": "fzT6HOQQMyCH",
    "executionInfo": {
     "status": "ok",
     "timestamp": 1737446968246,
     "user_tz": -60,
     "elapsed": 2535,
     "user": {
      "displayName": "Tom Desrumeaux",
      "userId": "17613307837492517386"
     }
    },
    "outputId": "bc65a481-8bed-4e4e-d5d0-3c754048f9c2"
   },
   "execution_count": 10,
   "outputs": [
    {
     "output_type": "stream",
     "name": "stderr",
     "text": [
      "WARNING:absl:Compiled the loaded model, but the compiled metrics have yet to be built. `model.compile_metrics` will be empty until you train or evaluate the model.\n"
     ]
    },
    {
     "output_type": "stream",
     "name": "stdout",
     "text": [
      "\u001B[1m1/1\u001B[0m \u001B[32m━━━━━━━━━━━━━━━━━━━━\u001B[0m\u001B[37m\u001B[0m \u001B[1m1s\u001B[0m 1s/step\n",
      "L'acteur prédit est : Brad Pitt\n"
     ]
    }
   ]
  },
  {
   "cell_type": "code",
   "source": [
    "import os\n",
    "import numpy as np\n",
    "from tensorflow.keras.models import load_model\n",
    "from tensorflow.keras.preprocessing import image\n",
    "from tensorflow.keras.preprocessing.image import ImageDataGenerator\n",
    "\n",
    "# Charger le modèle\n",
    "model = load_model(\"/content/drive/MyDrive/Colab Notebooks/actor_recognition_model_night.h5\")\n",
    "\n",
    "# Recompiler le modèle (si nécessaire)\n",
    "model.compile(optimizer=\"adam\", loss=\"categorical_crossentropy\", metrics=[\"accuracy\"])\n",
    "\n",
    "# Configurer les chemins\n",
    "train_directory = \"/content/drive/MyDrive/Colab Notebooks/Data/Celebrity Faces Cropped\"  # Dossier utilisé pour l'entraînement\n",
    "test_directory = \"/content/drive/MyDrive/Colab Notebooks/Data/Celebrity Faces Cropped/Tom Cruise\"  # Dossier de test\n",
    "image_size = (224, 224)  # Taille d'entrée des images\n",
    "\n",
    "# Récupérer les noms des classes depuis les sous-dossiers\n",
    "datagen = ImageDataGenerator(rescale=1.0 / 255)\n",
    "generator = datagen.flow_from_directory(\n",
    "    train_directory,\n",
    "    target_size=image_size,\n",
    "    batch_size=32,\n",
    "    class_mode=\"categorical\"\n",
    ")\n",
    "class_labels = list(generator.class_indices.keys())  # Liste des noms de classes\n",
    "print(f\"Classes détectées : {class_labels}\")\n",
    "\n",
    "# Fonction pour prédire une image\n",
    "def predict_image(image_path, model):\n",
    "    # Charger et prétraiter l'image\n",
    "    img = image.load_img(image_path, target_size=image_size)\n",
    "    img_array = image.img_to_array(img) / 255.0\n",
    "    img_array = np.expand_dims(img_array, axis=0)\n",
    "\n",
    "    # Faire une prédiction\n",
    "    predictions = model.predict(img_array)\n",
    "    predicted_class = np.argmax(predictions)\n",
    "    confidence = predictions[0][predicted_class]\n",
    "\n",
    "    return class_labels[predicted_class], confidence\n",
    "\n",
    "# Parcourir les images du dossier et faire des prédictions\n",
    "for img_name in os.listdir(test_directory):\n",
    "    img_path = os.path.join(test_directory, img_name)\n",
    "\n",
    "    # Vérifier que le fichier est une image\n",
    "    if img_name.lower().endswith((\".png\", \".jpg\", \".jpeg\")):\n",
    "        predicted_actor, confidence = predict_image(img_path, model)\n",
    "        print(f\"Image: {img_name} => Acteur prédit: {predicted_actor} (Confiance: {confidence:.2f})\")\n",
    "    else:\n",
    "        print(f\"Fichier ignoré : {img_name}\")\n"
   ],
   "metadata": {
    "colab": {
     "base_uri": "https://localhost:8080/"
    },
    "id": "X47V5KczPFha",
    "executionInfo": {
     "status": "ok",
     "timestamp": 1737447040358,
     "user_tz": -60,
     "elapsed": 39586,
     "user": {
      "displayName": "Tom Desrumeaux",
      "userId": "17613307837492517386"
     }
    },
    "outputId": "47225055-7fa2-427f-83ad-bddfcea2a5c1"
   },
   "execution_count": 12,
   "outputs": [
    {
     "output_type": "stream",
     "name": "stderr",
     "text": [
      "WARNING:absl:Compiled the loaded model, but the compiled metrics have yet to be built. `model.compile_metrics` will be empty until you train or evaluate the model.\n"
     ]
    },
    {
     "output_type": "stream",
     "name": "stdout",
     "text": [
      "Found 701 images belonging to 9 classes.\n",
      "Classes détectées : ['Brad Pitt', 'Hugh Jackman', 'Johnny Depp', 'Leonardo DiCaprio', 'Natalie Portman', 'Robert Downey Jr', 'Tom Cruise', 'Tom Hanks', 'Will Smith']\n",
      "\u001B[1m1/1\u001B[0m \u001B[32m━━━━━━━━━━━━━━━━━━━━\u001B[0m\u001B[37m\u001B[0m \u001B[1m2s\u001B[0m 2s/step\n",
      "Image: 036_f47a2dc9.jpg => Acteur prédit: Tom Cruise (Confiance: 0.47)\n",
      "\u001B[1m1/1\u001B[0m \u001B[32m━━━━━━━━━━━━━━━━━━━━\u001B[0m\u001B[37m\u001B[0m \u001B[1m0s\u001B[0m 114ms/step\n",
      "Image: 048_21c4f84a.jpg => Acteur prédit: Tom Cruise (Confiance: 0.99)\n",
      "\u001B[1m1/1\u001B[0m \u001B[32m━━━━━━━━━━━━━━━━━━━━\u001B[0m\u001B[37m\u001B[0m \u001B[1m0s\u001B[0m 111ms/step\n",
      "Image: 003_ed3fb7b1.jpg => Acteur prédit: Tom Cruise (Confiance: 0.96)\n",
      "\u001B[1m1/1\u001B[0m \u001B[32m━━━━━━━━━━━━━━━━━━━━\u001B[0m\u001B[37m\u001B[0m \u001B[1m0s\u001B[0m 132ms/step\n",
      "Image: 013_712a38d6.jpg => Acteur prédit: Tom Cruise (Confiance: 0.55)\n",
      "\u001B[1m1/1\u001B[0m \u001B[32m━━━━━━━━━━━━━━━━━━━━\u001B[0m\u001B[37m\u001B[0m \u001B[1m0s\u001B[0m 131ms/step\n",
      "Image: 057_e3da0420.jpg => Acteur prédit: Tom Cruise (Confiance: 0.90)\n",
      "\u001B[1m1/1\u001B[0m \u001B[32m━━━━━━━━━━━━━━━━━━━━\u001B[0m\u001B[37m\u001B[0m \u001B[1m0s\u001B[0m 108ms/step\n",
      "Image: 083_63bb9285.jpg => Acteur prédit: Tom Cruise (Confiance: 0.88)\n",
      "\u001B[1m1/1\u001B[0m \u001B[32m━━━━━━━━━━━━━━━━━━━━\u001B[0m\u001B[37m\u001B[0m \u001B[1m0s\u001B[0m 105ms/step\n",
      "Image: 059_6b515be7.jpg => Acteur prédit: Tom Cruise (Confiance: 0.77)\n",
      "\u001B[1m1/1\u001B[0m \u001B[32m━━━━━━━━━━━━━━━━━━━━\u001B[0m\u001B[37m\u001B[0m \u001B[1m0s\u001B[0m 65ms/step\n",
      "Image: 033_d891acbd.jpg => Acteur prédit: Tom Cruise (Confiance: 0.54)\n",
      "\u001B[1m1/1\u001B[0m \u001B[32m━━━━━━━━━━━━━━━━━━━━\u001B[0m\u001B[37m\u001B[0m \u001B[1m0s\u001B[0m 61ms/step\n",
      "Image: 045_0b1b7a65.jpg => Acteur prédit: Tom Cruise (Confiance: 0.84)\n",
      "\u001B[1m1/1\u001B[0m \u001B[32m━━━━━━━━━━━━━━━━━━━━\u001B[0m\u001B[37m\u001B[0m \u001B[1m0s\u001B[0m 62ms/step\n",
      "Image: 049_78b42871.jpg => Acteur prédit: Tom Cruise (Confiance: 0.83)\n",
      "\u001B[1m1/1\u001B[0m \u001B[32m━━━━━━━━━━━━━━━━━━━━\u001B[0m\u001B[37m\u001B[0m \u001B[1m0s\u001B[0m 63ms/step\n",
      "Image: 039_107ec01f.jpg => Acteur prédit: Tom Cruise (Confiance: 0.73)\n",
      "\u001B[1m1/1\u001B[0m \u001B[32m━━━━━━━━━━━━━━━━━━━━\u001B[0m\u001B[37m\u001B[0m \u001B[1m0s\u001B[0m 64ms/step\n",
      "Image: 019_99363fad.jpg => Acteur prédit: Hugh Jackman (Confiance: 0.44)\n",
      "\u001B[1m1/1\u001B[0m \u001B[32m━━━━━━━━━━━━━━━━━━━━\u001B[0m\u001B[37m\u001B[0m \u001B[1m0s\u001B[0m 66ms/step\n",
      "Image: 031_df3204d3.jpg => Acteur prédit: Tom Hanks (Confiance: 0.59)\n",
      "\u001B[1m1/1\u001B[0m \u001B[32m━━━━━━━━━━━━━━━━━━━━\u001B[0m\u001B[37m\u001B[0m \u001B[1m0s\u001B[0m 68ms/step\n",
      "Image: 089_20b122f3.jpg => Acteur prédit: Tom Cruise (Confiance: 0.67)\n",
      "\u001B[1m1/1\u001B[0m \u001B[32m━━━━━━━━━━━━━━━━━━━━\u001B[0m\u001B[37m\u001B[0m \u001B[1m0s\u001B[0m 65ms/step\n",
      "Image: 032_5934eb7a.jpg => Acteur prédit: Tom Cruise (Confiance: 0.90)\n",
      "\u001B[1m1/1\u001B[0m \u001B[32m━━━━━━━━━━━━━━━━━━━━\u001B[0m\u001B[37m\u001B[0m \u001B[1m0s\u001B[0m 60ms/step\n",
      "Image: 026_f06834e9.jpg => Acteur prédit: Tom Cruise (Confiance: 0.70)\n",
      "\u001B[1m1/1\u001B[0m \u001B[32m━━━━━━━━━━━━━━━━━━━━\u001B[0m\u001B[37m\u001B[0m \u001B[1m0s\u001B[0m 60ms/step\n",
      "Image: 021_f04e960b.jpg => Acteur prédit: Tom Hanks (Confiance: 0.60)\n",
      "\u001B[1m1/1\u001B[0m \u001B[32m━━━━━━━━━━━━━━━━━━━━\u001B[0m\u001B[37m\u001B[0m \u001B[1m0s\u001B[0m 66ms/step\n",
      "Image: 086_8a3c6af8.jpg => Acteur prédit: Tom Cruise (Confiance: 0.83)\n",
      "\u001B[1m1/1\u001B[0m \u001B[32m━━━━━━━━━━━━━━━━━━━━\u001B[0m\u001B[37m\u001B[0m \u001B[1m0s\u001B[0m 61ms/step\n",
      "Image: 062_d4b7903f.jpg => Acteur prédit: Tom Cruise (Confiance: 0.29)\n",
      "\u001B[1m1/1\u001B[0m \u001B[32m━━━━━━━━━━━━━━━━━━━━\u001B[0m\u001B[37m\u001B[0m \u001B[1m0s\u001B[0m 61ms/step\n",
      "Image: 098_3790f566.jpg => Acteur prédit: Tom Cruise (Confiance: 0.76)\n",
      "\u001B[1m1/1\u001B[0m \u001B[32m━━━━━━━━━━━━━━━━━━━━\u001B[0m\u001B[37m\u001B[0m \u001B[1m0s\u001B[0m 73ms/step\n",
      "Image: 052_60af6c54.jpg => Acteur prédit: Leonardo DiCaprio (Confiance: 0.46)\n",
      "\u001B[1m1/1\u001B[0m \u001B[32m━━━━━━━━━━━━━━━━━━━━\u001B[0m\u001B[37m\u001B[0m \u001B[1m0s\u001B[0m 65ms/step\n",
      "Image: 085_698d9a21.jpg => Acteur prédit: Tom Cruise (Confiance: 0.95)\n",
      "\u001B[1m1/1\u001B[0m \u001B[32m━━━━━━━━━━━━━━━━━━━━\u001B[0m\u001B[37m\u001B[0m \u001B[1m0s\u001B[0m 64ms/step\n",
      "Image: 043_be7cc0ea.jpg => Acteur prédit: Tom Cruise (Confiance: 0.86)\n",
      "\u001B[1m1/1\u001B[0m \u001B[32m━━━━━━━━━━━━━━━━━━━━\u001B[0m\u001B[37m\u001B[0m \u001B[1m0s\u001B[0m 71ms/step\n",
      "Image: 028_a41d259d.jpg => Acteur prédit: Tom Cruise (Confiance: 0.90)\n",
      "\u001B[1m1/1\u001B[0m \u001B[32m━━━━━━━━━━━━━━━━━━━━\u001B[0m\u001B[37m\u001B[0m \u001B[1m0s\u001B[0m 60ms/step\n",
      "Image: 077_58e430f4.jpg => Acteur prédit: Natalie Portman (Confiance: 0.69)\n",
      "\u001B[1m1/1\u001B[0m \u001B[32m━━━━━━━━━━━━━━━━━━━━\u001B[0m\u001B[37m\u001B[0m \u001B[1m0s\u001B[0m 68ms/step\n",
      "Image: 002_6749a2c4.jpg => Acteur prédit: Tom Cruise (Confiance: 0.79)\n",
      "\u001B[1m1/1\u001B[0m \u001B[32m━━━━━━━━━━━━━━━━━━━━\u001B[0m\u001B[37m\u001B[0m \u001B[1m0s\u001B[0m 60ms/step\n",
      "Image: 050_278ec040.jpg => Acteur prédit: Will Smith (Confiance: 0.45)\n",
      "\u001B[1m1/1\u001B[0m \u001B[32m━━━━━━━━━━━━━━━━━━━━\u001B[0m\u001B[37m\u001B[0m \u001B[1m0s\u001B[0m 79ms/step\n",
      "Image: 097_914cebdd.jpg => Acteur prédit: Tom Cruise (Confiance: 0.84)\n",
      "\u001B[1m1/1\u001B[0m \u001B[32m━━━━━━━━━━━━━━━━━━━━\u001B[0m\u001B[37m\u001B[0m \u001B[1m0s\u001B[0m 68ms/step\n",
      "Image: 010_18d7b27c.jpg => Acteur prédit: Tom Cruise (Confiance: 0.66)\n",
      "\u001B[1m1/1\u001B[0m \u001B[32m━━━━━━━━━━━━━━━━━━━━\u001B[0m\u001B[37m\u001B[0m \u001B[1m0s\u001B[0m 62ms/step\n",
      "Image: 001_08212dcd.jpg => Acteur prédit: Tom Cruise (Confiance: 0.96)\n",
      "\u001B[1m1/1\u001B[0m \u001B[32m━━━━━━━━━━━━━━━━━━━━\u001B[0m\u001B[37m\u001B[0m \u001B[1m0s\u001B[0m 75ms/step\n",
      "Image: 022_43b050c3.jpg => Acteur prédit: Tom Cruise (Confiance: 0.70)\n",
      "\u001B[1m1/1\u001B[0m \u001B[32m━━━━━━━━━━━━━━━━━━━━\u001B[0m\u001B[37m\u001B[0m \u001B[1m0s\u001B[0m 68ms/step\n",
      "Image: 082_1ac0f1ee.jpg => Acteur prédit: Tom Cruise (Confiance: 0.62)\n",
      "\u001B[1m1/1\u001B[0m \u001B[32m━━━━━━━━━━━━━━━━━━━━\u001B[0m\u001B[37m\u001B[0m \u001B[1m0s\u001B[0m 60ms/step\n",
      "Image: 069_be9dbc40.jpg => Acteur prédit: Tom Cruise (Confiance: 0.61)\n",
      "\u001B[1m1/1\u001B[0m \u001B[32m━━━━━━━━━━━━━━━━━━━━\u001B[0m\u001B[37m\u001B[0m \u001B[1m0s\u001B[0m 106ms/step\n",
      "Image: 034_ed2c8762.jpg => Acteur prédit: Tom Cruise (Confiance: 0.78)\n",
      "\u001B[1m1/1\u001B[0m \u001B[32m━━━━━━━━━━━━━━━━━━━━\u001B[0m\u001B[37m\u001B[0m \u001B[1m0s\u001B[0m 89ms/step\n",
      "Image: 014_50bc41b8.jpg => Acteur prédit: Natalie Portman (Confiance: 0.42)\n",
      "\u001B[1m1/1\u001B[0m \u001B[32m━━━━━━━━━━━━━━━━━━━━\u001B[0m\u001B[37m\u001B[0m \u001B[1m0s\u001B[0m 100ms/step\n",
      "Image: 056_158d5258.jpg => Acteur prédit: Tom Cruise (Confiance: 0.93)\n",
      "\u001B[1m1/1\u001B[0m \u001B[32m━━━━━━━━━━━━━━━━━━━━\u001B[0m\u001B[37m\u001B[0m \u001B[1m0s\u001B[0m 96ms/step\n",
      "Image: 006_46519378.jpg => Acteur prédit: Tom Cruise (Confiance: 0.63)\n",
      "\u001B[1m1/1\u001B[0m \u001B[32m━━━━━━━━━━━━━━━━━━━━\u001B[0m\u001B[37m\u001B[0m \u001B[1m0s\u001B[0m 102ms/step\n",
      "Image: 092_53648816.jpg => Acteur prédit: Tom Cruise (Confiance: 0.95)\n",
      "\u001B[1m1/1\u001B[0m \u001B[32m━━━━━━━━━━━━━━━━━━━━\u001B[0m\u001B[37m\u001B[0m \u001B[1m0s\u001B[0m 99ms/step\n",
      "Image: 041_e2eff4e4.jpg => Acteur prédit: Tom Cruise (Confiance: 0.92)\n",
      "\u001B[1m1/1\u001B[0m \u001B[32m━━━━━━━━━━━━━━━━━━━━\u001B[0m\u001B[37m\u001B[0m \u001B[1m0s\u001B[0m 109ms/step\n",
      "Image: 081_d6521f1f.jpg => Acteur prédit: Natalie Portman (Confiance: 0.45)\n",
      "\u001B[1m1/1\u001B[0m \u001B[32m━━━━━━━━━━━━━━━━━━━━\u001B[0m\u001B[37m\u001B[0m \u001B[1m0s\u001B[0m 68ms/step\n",
      "Image: 065_22f91b1e.jpg => Acteur prédit: Tom Cruise (Confiance: 0.98)\n",
      "\u001B[1m1/1\u001B[0m \u001B[32m━━━━━━━━━━━━━━━━━━━━\u001B[0m\u001B[37m\u001B[0m \u001B[1m0s\u001B[0m 59ms/step\n",
      "Image: 063_5b917fac.jpg => Acteur prédit: Tom Cruise (Confiance: 0.84)\n",
      "\u001B[1m1/1\u001B[0m \u001B[32m━━━━━━━━━━━━━━━━━━━━\u001B[0m\u001B[37m\u001B[0m \u001B[1m0s\u001B[0m 66ms/step\n",
      "Image: 072_dccafedf.jpg => Acteur prédit: Tom Cruise (Confiance: 0.82)\n",
      "\u001B[1m1/1\u001B[0m \u001B[32m━━━━━━━━━━━━━━━━━━━━\u001B[0m\u001B[37m\u001B[0m \u001B[1m0s\u001B[0m 64ms/step\n",
      "Image: 025_72e3b32b.jpg => Acteur prédit: Tom Cruise (Confiance: 0.56)\n",
      "\u001B[1m1/1\u001B[0m \u001B[32m━━━━━━━━━━━━━━━━━━━━\u001B[0m\u001B[37m\u001B[0m \u001B[1m0s\u001B[0m 62ms/step\n",
      "Image: 044_8ce8a143.jpg => Acteur prédit: Tom Cruise (Confiance: 0.76)\n",
      "\u001B[1m1/1\u001B[0m \u001B[32m━━━━━━━━━━━━━━━━━━━━\u001B[0m\u001B[37m\u001B[0m \u001B[1m0s\u001B[0m 65ms/step\n",
      "Image: 047_e8a911aa.jpg => Acteur prédit: Tom Cruise (Confiance: 0.94)\n",
      "\u001B[1m1/1\u001B[0m \u001B[32m━━━━━━━━━━━━━━━━━━━━\u001B[0m\u001B[37m\u001B[0m \u001B[1m0s\u001B[0m 64ms/step\n",
      "Image: 093_7e0d43d2.jpg => Acteur prédit: Tom Cruise (Confiance: 0.89)\n",
      "\u001B[1m1/1\u001B[0m \u001B[32m━━━━━━━━━━━━━━━━━━━━\u001B[0m\u001B[37m\u001B[0m \u001B[1m0s\u001B[0m 62ms/step\n",
      "Image: 035_34c306d1.jpg => Acteur prédit: Tom Cruise (Confiance: 0.68)\n",
      "\u001B[1m1/1\u001B[0m \u001B[32m━━━━━━━━━━━━━━━━━━━━\u001B[0m\u001B[37m\u001B[0m \u001B[1m0s\u001B[0m 76ms/step\n",
      "Image: 096_b45f1da1.jpg => Acteur prédit: Tom Cruise (Confiance: 0.86)\n",
      "\u001B[1m1/1\u001B[0m \u001B[32m━━━━━━━━━━━━━━━━━━━━\u001B[0m\u001B[37m\u001B[0m \u001B[1m0s\u001B[0m 72ms/step\n",
      "Image: 016_9959338f.jpg => Acteur prédit: Tom Cruise (Confiance: 0.74)\n",
      "\u001B[1m1/1\u001B[0m \u001B[32m━━━━━━━━━━━━━━━━━━━━\u001B[0m\u001B[37m\u001B[0m \u001B[1m0s\u001B[0m 60ms/step\n",
      "Image: 020_e616c0af.jpg => Acteur prédit: Tom Cruise (Confiance: 0.88)\n",
      "\u001B[1m1/1\u001B[0m \u001B[32m━━━━━━━━━━━━━━━━━━━━\u001B[0m\u001B[37m\u001B[0m \u001B[1m0s\u001B[0m 61ms/step\n",
      "Image: 073_dc7ca0db.jpg => Acteur prédit: Tom Cruise (Confiance: 0.88)\n",
      "\u001B[1m1/1\u001B[0m \u001B[32m━━━━━━━━━━━━━━━━━━━━\u001B[0m\u001B[37m\u001B[0m \u001B[1m0s\u001B[0m 62ms/step\n",
      "Image: 079_fd41500f.jpg => Acteur prédit: Tom Cruise (Confiance: 0.46)\n",
      "\u001B[1m1/1\u001B[0m \u001B[32m━━━━━━━━━━━━━━━━━━━━\u001B[0m\u001B[37m\u001B[0m \u001B[1m0s\u001B[0m 66ms/step\n",
      "Image: 100_32a5d9d1.jpg => Acteur prédit: Johnny Depp (Confiance: 0.45)\n",
      "\u001B[1m1/1\u001B[0m \u001B[32m━━━━━━━━━━━━━━━━━━━━\u001B[0m\u001B[37m\u001B[0m \u001B[1m0s\u001B[0m 64ms/step\n",
      "Image: 088_fde7e34b.jpg => Acteur prédit: Tom Cruise (Confiance: 0.35)\n",
      "\u001B[1m1/1\u001B[0m \u001B[32m━━━━━━━━━━━━━━━━━━━━\u001B[0m\u001B[37m\u001B[0m \u001B[1m0s\u001B[0m 63ms/step\n",
      "Image: 074_f29224ac.jpg => Acteur prédit: Tom Cruise (Confiance: 0.73)\n",
      "\u001B[1m1/1\u001B[0m \u001B[32m━━━━━━━━━━━━━━━━━━━━\u001B[0m\u001B[37m\u001B[0m \u001B[1m0s\u001B[0m 60ms/step\n",
      "Image: 071_0ebe70f4.jpg => Acteur prédit: Tom Cruise (Confiance: 0.96)\n",
      "\u001B[1m1/1\u001B[0m \u001B[32m━━━━━━━━━━━━━━━━━━━━\u001B[0m\u001B[37m\u001B[0m \u001B[1m0s\u001B[0m 63ms/step\n",
      "Image: 054_5e6a651d.jpg => Acteur prédit: Tom Cruise (Confiance: 0.72)\n",
      "\u001B[1m1/1\u001B[0m \u001B[32m━━━━━━━━━━━━━━━━━━━━\u001B[0m\u001B[37m\u001B[0m \u001B[1m0s\u001B[0m 61ms/step\n",
      "Image: 061_aa29ec4f.jpg => Acteur prédit: Tom Cruise (Confiance: 0.78)\n",
      "\u001B[1m1/1\u001B[0m \u001B[32m━━━━━━━━━━━━━━━━━━━━\u001B[0m\u001B[37m\u001B[0m \u001B[1m0s\u001B[0m 66ms/step\n",
      "Image: 011_0dda409c.jpg => Acteur prédit: Tom Cruise (Confiance: 0.90)\n",
      "\u001B[1m1/1\u001B[0m \u001B[32m━━━━━━━━━━━━━━━━━━━━\u001B[0m\u001B[37m\u001B[0m \u001B[1m0s\u001B[0m 64ms/step\n",
      "Image: 008_4d5e67ae.jpg => Acteur prédit: Tom Cruise (Confiance: 0.54)\n",
      "\u001B[1m1/1\u001B[0m \u001B[32m━━━━━━━━━━━━━━━━━━━━\u001B[0m\u001B[37m\u001B[0m \u001B[1m0s\u001B[0m 65ms/step\n",
      "Image: 070_86a8dd4b.jpg => Acteur prédit: Tom Cruise (Confiance: 0.81)\n",
      "\u001B[1m1/1\u001B[0m \u001B[32m━━━━━━━━━━━━━━━━━━━━\u001B[0m\u001B[37m\u001B[0m \u001B[1m0s\u001B[0m 61ms/step\n",
      "Image: 038_02f8e0ee.jpg => Acteur prédit: Tom Cruise (Confiance: 0.77)\n",
      "\u001B[1m1/1\u001B[0m \u001B[32m━━━━━━━━━━━━━━━━━━━━\u001B[0m\u001B[37m\u001B[0m \u001B[1m0s\u001B[0m 65ms/step\n",
      "Image: 042_495b3b2e.jpg => Acteur prédit: Tom Cruise (Confiance: 0.67)\n",
      "\u001B[1m1/1\u001B[0m \u001B[32m━━━━━━━━━━━━━━━━━━━━\u001B[0m\u001B[37m\u001B[0m \u001B[1m0s\u001B[0m 102ms/step\n",
      "Image: 058_a119b343.jpg => Acteur prédit: Leonardo DiCaprio (Confiance: 0.58)\n",
      "\u001B[1m1/1\u001B[0m \u001B[32m━━━━━━━━━━━━━━━━━━━━\u001B[0m\u001B[37m\u001B[0m \u001B[1m0s\u001B[0m 92ms/step\n",
      "Image: 068_02e157e1.jpg => Acteur prédit: Tom Cruise (Confiance: 0.91)\n",
      "\u001B[1m1/1\u001B[0m \u001B[32m━━━━━━━━━━━━━━━━━━━━\u001B[0m\u001B[37m\u001B[0m \u001B[1m0s\u001B[0m 101ms/step\n",
      "Image: 087_8fff57dd.jpg => Acteur prédit: Tom Cruise (Confiance: 0.92)\n",
      "\u001B[1m1/1\u001B[0m \u001B[32m━━━━━━━━━━━━━━━━━━━━\u001B[0m\u001B[37m\u001B[0m \u001B[1m0s\u001B[0m 98ms/step\n",
      "Image: 007_0a40d399.jpg => Acteur prédit: Tom Cruise (Confiance: 0.89)\n",
      "\u001B[1m1/1\u001B[0m \u001B[32m━━━━━━━━━━━━━━━━━━━━\u001B[0m\u001B[37m\u001B[0m \u001B[1m0s\u001B[0m 90ms/step\n",
      "Image: 084_31281f33.jpg => Acteur prédit: Tom Cruise (Confiance: 0.72)\n",
      "\u001B[1m1/1\u001B[0m \u001B[32m━━━━━━━━━━━━━━━━━━━━\u001B[0m\u001B[37m\u001B[0m \u001B[1m0s\u001B[0m 102ms/step\n",
      "Image: 009_1f22d945.jpg => Acteur prédit: Tom Hanks (Confiance: 0.39)\n",
      "\u001B[1m1/1\u001B[0m \u001B[32m━━━━━━━━━━━━━━━━━━━━\u001B[0m\u001B[37m\u001B[0m \u001B[1m0s\u001B[0m 100ms/step\n",
      "Image: 055_3fd4465f.jpg => Acteur prédit: Tom Cruise (Confiance: 0.34)\n",
      "\u001B[1m1/1\u001B[0m \u001B[32m━━━━━━━━━━━━━━━━━━━━\u001B[0m\u001B[37m\u001B[0m \u001B[1m0s\u001B[0m 114ms/step\n",
      "Image: 027_7c6c360c.jpg => Acteur prédit: Tom Cruise (Confiance: 0.87)\n",
      "\u001B[1m1/1\u001B[0m \u001B[32m━━━━━━━━━━━━━━━━━━━━\u001B[0m\u001B[37m\u001B[0m \u001B[1m0s\u001B[0m 101ms/step\n",
      "Image: 078_076c27b8.jpg => Acteur prédit: Tom Cruise (Confiance: 0.68)\n",
      "\u001B[1m1/1\u001B[0m \u001B[32m━━━━━━━━━━━━━━━━━━━━\u001B[0m\u001B[37m\u001B[0m \u001B[1m0s\u001B[0m 68ms/step\n",
      "Image: 015_8adbc3ae.jpg => Acteur prédit: Tom Cruise (Confiance: 0.90)\n",
      "\u001B[1m1/1\u001B[0m \u001B[32m━━━━━━━━━━━━━━━━━━━━\u001B[0m\u001B[37m\u001B[0m \u001B[1m0s\u001B[0m 60ms/step\n",
      "Image: 024_e7356978.jpg => Acteur prédit: Tom Cruise (Confiance: 0.89)\n",
      "\u001B[1m1/1\u001B[0m \u001B[32m━━━━━━━━━━━━━━━━━━━━\u001B[0m\u001B[37m\u001B[0m \u001B[1m0s\u001B[0m 59ms/step\n",
      "Image: 094_2f713c67.jpg => Acteur prédit: Tom Cruise (Confiance: 0.97)\n",
      "\u001B[1m1/1\u001B[0m \u001B[32m━━━━━━━━━━━━━━━━━━━━\u001B[0m\u001B[37m\u001B[0m \u001B[1m0s\u001B[0m 63ms/step\n",
      "Image: 075_eed20fb4.jpg => Acteur prédit: Tom Cruise (Confiance: 0.69)\n",
      "\u001B[1m1/1\u001B[0m \u001B[32m━━━━━━━━━━━━━━━━━━━━\u001B[0m\u001B[37m\u001B[0m \u001B[1m0s\u001B[0m 57ms/step\n",
      "Image: 046_9ba44e0e.jpg => Acteur prédit: Tom Cruise (Confiance: 0.91)\n",
      "\u001B[1m1/1\u001B[0m \u001B[32m━━━━━━━━━━━━━━━━━━━━\u001B[0m\u001B[37m\u001B[0m \u001B[1m0s\u001B[0m 67ms/step\n",
      "Image: 099_705dbe8c.jpg => Acteur prédit: Tom Cruise (Confiance: 0.97)\n",
      "\u001B[1m1/1\u001B[0m \u001B[32m━━━━━━━━━━━━━━━━━━━━\u001B[0m\u001B[37m\u001B[0m \u001B[1m0s\u001B[0m 59ms/step\n",
      "Image: 060_b53036a3.jpg => Acteur prédit: Tom Cruise (Confiance: 0.64)\n",
      "\u001B[1m1/1\u001B[0m \u001B[32m━━━━━━━━━━━━━━━━━━━━\u001B[0m\u001B[37m\u001B[0m \u001B[1m0s\u001B[0m 56ms/step\n",
      "Image: 005_2464c583.jpg => Acteur prédit: Brad Pitt (Confiance: 0.42)\n",
      "\u001B[1m1/1\u001B[0m \u001B[32m━━━━━━━━━━━━━━━━━━━━\u001B[0m\u001B[37m\u001B[0m \u001B[1m0s\u001B[0m 65ms/step\n",
      "Image: 004_dc64d954.jpg => Acteur prédit: Tom Cruise (Confiance: 0.97)\n",
      "\u001B[1m1/1\u001B[0m \u001B[32m━━━━━━━━━━━━━━━━━━━━\u001B[0m\u001B[37m\u001B[0m \u001B[1m0s\u001B[0m 57ms/step\n",
      "Image: 091_a9736a22.jpg => Acteur prédit: Tom Cruise (Confiance: 0.63)\n",
      "\u001B[1m1/1\u001B[0m \u001B[32m━━━━━━━━━━━━━━━━━━━━\u001B[0m\u001B[37m\u001B[0m \u001B[1m0s\u001B[0m 74ms/step\n",
      "Image: 051_566647e1.jpg => Acteur prédit: Tom Cruise (Confiance: 0.84)\n",
      "\u001B[1m1/1\u001B[0m \u001B[32m━━━━━━━━━━━━━━━━━━━━\u001B[0m\u001B[37m\u001B[0m \u001B[1m0s\u001B[0m 77ms/step\n",
      "Image: 090_8f4eb0e6.jpg => Acteur prédit: Tom Cruise (Confiance: 0.88)\n",
      "\u001B[1m1/1\u001B[0m \u001B[32m━━━━━━━━━━━━━━━━━━━━\u001B[0m\u001B[37m\u001B[0m \u001B[1m0s\u001B[0m 68ms/step\n",
      "Image: 018_cae0c8ec.jpg => Acteur prédit: Tom Cruise (Confiance: 0.78)\n",
      "\u001B[1m1/1\u001B[0m \u001B[32m━━━━━━━━━━━━━━━━━━━━\u001B[0m\u001B[37m\u001B[0m \u001B[1m0s\u001B[0m 64ms/step\n",
      "Image: 017_e1b1872c.jpg => Acteur prédit: Tom Cruise (Confiance: 0.69)\n",
      "\u001B[1m1/1\u001B[0m \u001B[32m━━━━━━━━━━━━━━━━━━━━\u001B[0m\u001B[37m\u001B[0m \u001B[1m0s\u001B[0m 80ms/step\n",
      "Image: 030_377fefef.jpg => Acteur prédit: Tom Cruise (Confiance: 0.68)\n",
      "\u001B[1m1/1\u001B[0m \u001B[32m━━━━━━━━━━━━━━━━━━━━\u001B[0m\u001B[37m\u001B[0m \u001B[1m0s\u001B[0m 61ms/step\n",
      "Image: 037_463cf3bd.jpg => Acteur prédit: Tom Cruise (Confiance: 0.94)\n",
      "\u001B[1m1/1\u001B[0m \u001B[32m━━━━━━━━━━━━━━━━━━━━\u001B[0m\u001B[37m\u001B[0m \u001B[1m0s\u001B[0m 67ms/step\n",
      "Image: 053_3804bf81.jpg => Acteur prédit: Tom Cruise (Confiance: 0.94)\n",
      "\u001B[1m1/1\u001B[0m \u001B[32m━━━━━━━━━━━━━━━━━━━━\u001B[0m\u001B[37m\u001B[0m \u001B[1m0s\u001B[0m 65ms/step\n",
      "Image: 029_ea3de34c.jpg => Acteur prédit: Tom Cruise (Confiance: 0.91)\n",
      "\u001B[1m1/1\u001B[0m \u001B[32m━━━━━━━━━━━━━━━━━━━━\u001B[0m\u001B[37m\u001B[0m \u001B[1m0s\u001B[0m 65ms/step\n",
      "Image: 067_8dcd661e.jpg => Acteur prédit: Tom Cruise (Confiance: 0.69)\n",
      "\u001B[1m1/1\u001B[0m \u001B[32m━━━━━━━━━━━━━━━━━━━━\u001B[0m\u001B[37m\u001B[0m \u001B[1m0s\u001B[0m 67ms/step\n",
      "Image: 064_871302d1.jpg => Acteur prédit: Tom Cruise (Confiance: 0.73)\n",
      "\u001B[1m1/1\u001B[0m \u001B[32m━━━━━━━━━━━━━━━━━━━━\u001B[0m\u001B[37m\u001B[0m \u001B[1m0s\u001B[0m 81ms/step\n",
      "Image: 040_ca0a46b5.jpg => Acteur prédit: Tom Cruise (Confiance: 0.78)\n"
     ]
    }
   ]
  },
  {
   "metadata": {
    "ExecuteTime": {
     "end_time": "2025-01-21T09:02:16.112510Z",
     "start_time": "2025-01-21T09:02:09.596801Z"
    }
   },
   "cell_type": "code",
   "source": [
    "import os\n",
    "import numpy as np\n",
    "from tensorflow.keras.models import load_model\n",
    "from tensorflow.keras.preprocessing import image\n",
    "from tensorflow.keras.preprocessing.image import ImageDataGenerator\n",
    "\n",
    "# Charger le modèle\n",
    "model = load_model(\"actor_recognition_model_night.h5\")\n",
    "\n",
    "# Recompiler le modèle (si nécessaire)\n",
    "model.compile(optimizer=\"adam\", loss=\"categorical_crossentropy\", metrics=[\"accuracy\"])\n",
    "\n",
    "# Configurer les chemins\n",
    "train_directory = r\"C:\\Users\\33658\\Documents\\CelebrityFacesCropped\\Celebrity Faces Cropped\"  # Dossier utilisé pour l'entraînement\n",
    "test_directory = r\"C:\\Users\\33658\\Documents\\CelebrityFacesCropped\\Celebrity Faces Cropped\\Hugh Jackman\"  # Dossier de test\n",
    "image_size = (224, 224)  # Taille d'entrée des images\n",
    "\n",
    "# Récupérer les noms des classes depuis les sous-dossiers\n",
    "datagen = ImageDataGenerator(rescale=1.0 / 255)\n",
    "generator = datagen.flow_from_directory(\n",
    "    train_directory,\n",
    "    target_size=image_size,\n",
    "    batch_size=32,\n",
    "    class_mode=\"categorical\"\n",
    ")\n",
    "class_labels = list(generator.class_indices.keys())  # Liste des noms de classes\n",
    "print(f\"Classes détectées : {class_labels}\")\n",
    "\n",
    "# Fonction pour prédire une image\n",
    "def predict_image(image_path, model):\n",
    "    # Charger et prétraiter l'image\n",
    "    img = image.load_img(image_path, target_size=image_size)\n",
    "    img_array = image.img_to_array(img) / 255.0\n",
    "    img_array = np.expand_dims(img_array, axis=0)\n",
    "\n",
    "    # Faire une prédiction\n",
    "    predictions = model.predict(img_array)\n",
    "    predicted_class = np.argmax(predictions)\n",
    "    confidence = predictions[0][predicted_class]\n",
    "\n",
    "    return predicted_class, confidence\n",
    "\n",
    "# Évaluer les performances globales\n",
    "correct_predictions = 0\n",
    "total_images = 0\n",
    "\n",
    "# Parcourir les images du dossier et faire des prédictions\n",
    "for img_name in os.listdir(test_directory):\n",
    "    img_path = os.path.join(test_directory, img_name)\n",
    "\n",
    "    # Vérifier que le fichier est une image\n",
    "    if img_name.lower().endswith((\".png\", \".jpg\", \".jpeg\")):\n",
    "        predicted_class, confidence = predict_image(img_path, model)\n",
    "        true_class = class_labels.index(\"Hugh Jackman\")  # Remplacer par la classe correcte pour ce dossier\n",
    "\n",
    "        if predicted_class == true_class:\n",
    "            correct_predictions += 1\n",
    "        total_images += 1\n",
    "\n",
    "        print(f\"Image: {img_name} => Acteur prédit: {class_labels[predicted_class]} (Confiance: {confidence:.2f})\")\n",
    "    else:\n",
    "        print(f\"Fichier ignoré : {img_name}\")\n",
    "\n",
    "# Calculer et afficher la performance globale\n",
    "accuracy = (correct_predictions / total_images) * 100 if total_images > 0 else 0\n",
    "print(f\"Total d'images évaluées : {total_images}\")\n",
    "print(f\"Prédictions correctes : {correct_predictions}\")\n",
    "print(f\"Précision globale : {accuracy:.2f}%\")\n"
   ],
   "outputs": [
    {
     "name": "stderr",
     "output_type": "stream",
     "text": [
      "WARNING:absl:Compiled the loaded model, but the compiled metrics have yet to be built. `model.compile_metrics` will be empty until you train or evaluate the model.\n"
     ]
    },
    {
     "name": "stdout",
     "output_type": "stream",
     "text": [
      "Found 701 images belonging to 9 classes.\n",
      "Classes détectées : ['Brad Pitt', 'Hugh Jackman', 'Johnny Depp', 'Leonardo DiCaprio', 'Natalie Portman', 'Robert Downey Jr', 'Tom Cruise', 'Tom Hanks', 'Will Smith']\n",
      "\u001B[1m1/1\u001B[0m \u001B[32m━━━━━━━━━━━━━━━━━━━━\u001B[0m\u001B[37m\u001B[0m \u001B[1m1s\u001B[0m 727ms/step\n",
      "Image: 001_9adc92c2.jpg => Acteur prédit: Hugh Jackman (Confiance: 0.64)\n",
      "\u001B[1m1/1\u001B[0m \u001B[32m━━━━━━━━━━━━━━━━━━━━\u001B[0m\u001B[37m\u001B[0m \u001B[1m0s\u001B[0m 27ms/step\n",
      "Image: 002_85eab275.jpg => Acteur prédit: Hugh Jackman (Confiance: 0.99)\n",
      "\u001B[1m1/1\u001B[0m \u001B[32m━━━━━━━━━━━━━━━━━━━━\u001B[0m\u001B[37m\u001B[0m \u001B[1m0s\u001B[0m 27ms/step\n",
      "Image: 003_8889ec2c.jpg => Acteur prédit: Hugh Jackman (Confiance: 0.97)\n",
      "\u001B[1m1/1\u001B[0m \u001B[32m━━━━━━━━━━━━━━━━━━━━\u001B[0m\u001B[37m\u001B[0m \u001B[1m0s\u001B[0m 30ms/step\n",
      "Image: 004_41caa173.jpg => Acteur prédit: Hugh Jackman (Confiance: 0.59)\n",
      "\u001B[1m1/1\u001B[0m \u001B[32m━━━━━━━━━━━━━━━━━━━━\u001B[0m\u001B[37m\u001B[0m \u001B[1m0s\u001B[0m 36ms/step\n",
      "Image: 005_3ba56da0.jpg => Acteur prédit: Hugh Jackman (Confiance: 0.86)\n",
      "\u001B[1m1/1\u001B[0m \u001B[32m━━━━━━━━━━━━━━━━━━━━\u001B[0m\u001B[37m\u001B[0m \u001B[1m0s\u001B[0m 27ms/step\n",
      "Image: 006_ff6876d9.jpg => Acteur prédit: Hugh Jackman (Confiance: 0.95)\n",
      "\u001B[1m1/1\u001B[0m \u001B[32m━━━━━━━━━━━━━━━━━━━━\u001B[0m\u001B[37m\u001B[0m \u001B[1m0s\u001B[0m 27ms/step\n",
      "Image: 007_68abd54d.jpg => Acteur prédit: Hugh Jackman (Confiance: 0.97)\n",
      "\u001B[1m1/1\u001B[0m \u001B[32m━━━━━━━━━━━━━━━━━━━━\u001B[0m\u001B[37m\u001B[0m \u001B[1m0s\u001B[0m 26ms/step\n",
      "Image: 008_d5553651.jpg => Acteur prédit: Hugh Jackman (Confiance: 1.00)\n",
      "\u001B[1m1/1\u001B[0m \u001B[32m━━━━━━━━━━━━━━━━━━━━\u001B[0m\u001B[37m\u001B[0m \u001B[1m0s\u001B[0m 25ms/step\n",
      "Image: 009_11c22a3b.jpg => Acteur prédit: Hugh Jackman (Confiance: 0.91)\n",
      "\u001B[1m1/1\u001B[0m \u001B[32m━━━━━━━━━━━━━━━━━━━━\u001B[0m\u001B[37m\u001B[0m \u001B[1m0s\u001B[0m 32ms/step\n",
      "Image: 010_cce39614.jpg => Acteur prédit: Hugh Jackman (Confiance: 0.93)\n",
      "\u001B[1m1/1\u001B[0m \u001B[32m━━━━━━━━━━━━━━━━━━━━\u001B[0m\u001B[37m\u001B[0m \u001B[1m0s\u001B[0m 30ms/step\n",
      "Image: 011_17b8991d.jpg => Acteur prédit: Hugh Jackman (Confiance: 0.97)\n",
      "\u001B[1m1/1\u001B[0m \u001B[32m━━━━━━━━━━━━━━━━━━━━\u001B[0m\u001B[37m\u001B[0m \u001B[1m0s\u001B[0m 32ms/step\n",
      "Image: 012_b33b05c6.jpg => Acteur prédit: Hugh Jackman (Confiance: 0.89)\n",
      "\u001B[1m1/1\u001B[0m \u001B[32m━━━━━━━━━━━━━━━━━━━━\u001B[0m\u001B[37m\u001B[0m \u001B[1m0s\u001B[0m 30ms/step\n",
      "Image: 013_025c288f.jpg => Acteur prédit: Hugh Jackman (Confiance: 0.87)\n",
      "\u001B[1m1/1\u001B[0m \u001B[32m━━━━━━━━━━━━━━━━━━━━\u001B[0m\u001B[37m\u001B[0m \u001B[1m0s\u001B[0m 30ms/step\n",
      "Image: 014_07f2f9cb.jpg => Acteur prédit: Hugh Jackman (Confiance: 0.85)\n",
      "\u001B[1m1/1\u001B[0m \u001B[32m━━━━━━━━━━━━━━━━━━━━\u001B[0m\u001B[37m\u001B[0m \u001B[1m0s\u001B[0m 29ms/step\n",
      "Image: 015_186b4bbf.jpg => Acteur prédit: Hugh Jackman (Confiance: 1.00)\n",
      "\u001B[1m1/1\u001B[0m \u001B[32m━━━━━━━━━━━━━━━━━━━━\u001B[0m\u001B[37m\u001B[0m \u001B[1m0s\u001B[0m 32ms/step\n",
      "Image: 016_e319349e.jpg => Acteur prédit: Tom Cruise (Confiance: 0.76)\n",
      "\u001B[1m1/1\u001B[0m \u001B[32m━━━━━━━━━━━━━━━━━━━━\u001B[0m\u001B[37m\u001B[0m \u001B[1m0s\u001B[0m 33ms/step\n",
      "Image: 017_fad27cd4.jpg => Acteur prédit: Hugh Jackman (Confiance: 0.47)\n",
      "\u001B[1m1/1\u001B[0m \u001B[32m━━━━━━━━━━━━━━━━━━━━\u001B[0m\u001B[37m\u001B[0m \u001B[1m0s\u001B[0m 31ms/step\n",
      "Image: 018_3bdca9f6.jpg => Acteur prédit: Hugh Jackman (Confiance: 0.98)\n",
      "\u001B[1m1/1\u001B[0m \u001B[32m━━━━━━━━━━━━━━━━━━━━\u001B[0m\u001B[37m\u001B[0m \u001B[1m0s\u001B[0m 29ms/step\n",
      "Image: 019_2d261ea3.jpg => Acteur prédit: Hugh Jackman (Confiance: 0.92)\n",
      "\u001B[1m1/1\u001B[0m \u001B[32m━━━━━━━━━━━━━━━━━━━━\u001B[0m\u001B[37m\u001B[0m \u001B[1m0s\u001B[0m 42ms/step\n",
      "Image: 020_edd8803c.jpg => Acteur prédit: Hugh Jackman (Confiance: 0.99)\n",
      "\u001B[1m1/1\u001B[0m \u001B[32m━━━━━━━━━━━━━━━━━━━━\u001B[0m\u001B[37m\u001B[0m \u001B[1m0s\u001B[0m 30ms/step\n",
      "Image: 021_4d5264fd.jpg => Acteur prédit: Natalie Portman (Confiance: 0.68)\n",
      "\u001B[1m1/1\u001B[0m \u001B[32m━━━━━━━━━━━━━━━━━━━━\u001B[0m\u001B[37m\u001B[0m \u001B[1m0s\u001B[0m 28ms/step\n",
      "Image: 022_9b0e7dc8.jpg => Acteur prédit: Hugh Jackman (Confiance: 0.97)\n",
      "\u001B[1m1/1\u001B[0m \u001B[32m━━━━━━━━━━━━━━━━━━━━\u001B[0m\u001B[37m\u001B[0m \u001B[1m0s\u001B[0m 30ms/step\n",
      "Image: 023_53e3d0b3.jpg => Acteur prédit: Hugh Jackman (Confiance: 0.94)\n",
      "\u001B[1m1/1\u001B[0m \u001B[32m━━━━━━━━━━━━━━━━━━━━\u001B[0m\u001B[37m\u001B[0m \u001B[1m0s\u001B[0m 26ms/step\n",
      "Image: 024_2a9dc3ca.jpg => Acteur prédit: Natalie Portman (Confiance: 0.61)\n",
      "\u001B[1m1/1\u001B[0m \u001B[32m━━━━━━━━━━━━━━━━━━━━\u001B[0m\u001B[37m\u001B[0m \u001B[1m0s\u001B[0m 27ms/step\n",
      "Image: 025_31c04ded.jpg => Acteur prédit: Hugh Jackman (Confiance: 0.51)\n",
      "\u001B[1m1/1\u001B[0m \u001B[32m━━━━━━━━━━━━━━━━━━━━\u001B[0m\u001B[37m\u001B[0m \u001B[1m0s\u001B[0m 26ms/step\n",
      "Image: 026_4e67d826.jpg => Acteur prédit: Hugh Jackman (Confiance: 0.97)\n",
      "\u001B[1m1/1\u001B[0m \u001B[32m━━━━━━━━━━━━━━━━━━━━\u001B[0m\u001B[37m\u001B[0m \u001B[1m0s\u001B[0m 26ms/step\n",
      "Image: 027_ded82a08.jpg => Acteur prédit: Hugh Jackman (Confiance: 0.96)\n",
      "\u001B[1m1/1\u001B[0m \u001B[32m━━━━━━━━━━━━━━━━━━━━\u001B[0m\u001B[37m\u001B[0m \u001B[1m0s\u001B[0m 27ms/step\n",
      "Image: 028_7214d33e.jpg => Acteur prédit: Hugh Jackman (Confiance: 0.96)\n",
      "\u001B[1m1/1\u001B[0m \u001B[32m━━━━━━━━━━━━━━━━━━━━\u001B[0m\u001B[37m\u001B[0m \u001B[1m0s\u001B[0m 28ms/step\n",
      "Image: 029_c6e0a7f3.jpg => Acteur prédit: Hugh Jackman (Confiance: 0.91)\n",
      "\u001B[1m1/1\u001B[0m \u001B[32m━━━━━━━━━━━━━━━━━━━━\u001B[0m\u001B[37m\u001B[0m \u001B[1m0s\u001B[0m 26ms/step\n",
      "Image: 030_c2291830.jpg => Acteur prédit: Tom Cruise (Confiance: 0.50)\n",
      "\u001B[1m1/1\u001B[0m \u001B[32m━━━━━━━━━━━━━━━━━━━━\u001B[0m\u001B[37m\u001B[0m \u001B[1m0s\u001B[0m 27ms/step\n",
      "Image: 031_e8d3b475.jpg => Acteur prédit: Hugh Jackman (Confiance: 0.95)\n",
      "\u001B[1m1/1\u001B[0m \u001B[32m━━━━━━━━━━━━━━━━━━━━\u001B[0m\u001B[37m\u001B[0m \u001B[1m0s\u001B[0m 28ms/step\n",
      "Image: 032_0e6a520a.jpg => Acteur prédit: Hugh Jackman (Confiance: 0.99)\n",
      "\u001B[1m1/1\u001B[0m \u001B[32m━━━━━━━━━━━━━━━━━━━━\u001B[0m\u001B[37m\u001B[0m \u001B[1m0s\u001B[0m 26ms/step\n",
      "Image: 033_06f1823f.jpg => Acteur prédit: Hugh Jackman (Confiance: 0.99)\n",
      "\u001B[1m1/1\u001B[0m \u001B[32m━━━━━━━━━━━━━━━━━━━━\u001B[0m\u001B[37m\u001B[0m \u001B[1m0s\u001B[0m 38ms/step\n",
      "Image: 034_09baeb19.jpg => Acteur prédit: Tom Cruise (Confiance: 0.51)\n",
      "\u001B[1m1/1\u001B[0m \u001B[32m━━━━━━━━━━━━━━━━━━━━\u001B[0m\u001B[37m\u001B[0m \u001B[1m0s\u001B[0m 32ms/step\n",
      "Image: 035_79812fd1.jpg => Acteur prédit: Hugh Jackman (Confiance: 0.99)\n",
      "\u001B[1m1/1\u001B[0m \u001B[32m━━━━━━━━━━━━━━━━━━━━\u001B[0m\u001B[37m\u001B[0m \u001B[1m0s\u001B[0m 33ms/step\n",
      "Image: 036_0be99621.jpg => Acteur prédit: Hugh Jackman (Confiance: 0.96)\n",
      "\u001B[1m1/1\u001B[0m \u001B[32m━━━━━━━━━━━━━━━━━━━━\u001B[0m\u001B[37m\u001B[0m \u001B[1m0s\u001B[0m 30ms/step\n",
      "Image: 037_f5b8733a.jpg => Acteur prédit: Hugh Jackman (Confiance: 0.48)\n",
      "\u001B[1m1/1\u001B[0m \u001B[32m━━━━━━━━━━━━━━━━━━━━\u001B[0m\u001B[37m\u001B[0m \u001B[1m0s\u001B[0m 30ms/step\n",
      "Image: 038_69b748e3.jpg => Acteur prédit: Hugh Jackman (Confiance: 0.98)\n",
      "\u001B[1m1/1\u001B[0m \u001B[32m━━━━━━━━━━━━━━━━━━━━\u001B[0m\u001B[37m\u001B[0m \u001B[1m0s\u001B[0m 26ms/step\n",
      "Image: 039_80446065.jpg => Acteur prédit: Tom Cruise (Confiance: 0.46)\n",
      "\u001B[1m1/1\u001B[0m \u001B[32m━━━━━━━━━━━━━━━━━━━━\u001B[0m\u001B[37m\u001B[0m \u001B[1m0s\u001B[0m 29ms/step\n",
      "Image: 040_4baf02be.jpg => Acteur prédit: Hugh Jackman (Confiance: 0.79)\n",
      "\u001B[1m1/1\u001B[0m \u001B[32m━━━━━━━━━━━━━━━━━━━━\u001B[0m\u001B[37m\u001B[0m \u001B[1m0s\u001B[0m 27ms/step\n",
      "Image: 041_efeaa4c3.jpg => Acteur prédit: Hugh Jackman (Confiance: 0.80)\n",
      "\u001B[1m1/1\u001B[0m \u001B[32m━━━━━━━━━━━━━━━━━━━━\u001B[0m\u001B[37m\u001B[0m \u001B[1m0s\u001B[0m 28ms/step\n",
      "Image: 042_31710794.jpg => Acteur prédit: Hugh Jackman (Confiance: 0.97)\n",
      "\u001B[1m1/1\u001B[0m \u001B[32m━━━━━━━━━━━━━━━━━━━━\u001B[0m\u001B[37m\u001B[0m \u001B[1m0s\u001B[0m 30ms/step\n",
      "Image: 043_1d38d614.jpg => Acteur prédit: Hugh Jackman (Confiance: 0.98)\n",
      "\u001B[1m1/1\u001B[0m \u001B[32m━━━━━━━━━━━━━━━━━━━━\u001B[0m\u001B[37m\u001B[0m \u001B[1m0s\u001B[0m 27ms/step\n",
      "Image: 044_1844df0f.jpg => Acteur prédit: Hugh Jackman (Confiance: 0.96)\n",
      "\u001B[1m1/1\u001B[0m \u001B[32m━━━━━━━━━━━━━━━━━━━━\u001B[0m\u001B[37m\u001B[0m \u001B[1m0s\u001B[0m 28ms/step\n",
      "Image: 045_24b44c3d.jpg => Acteur prédit: Hugh Jackman (Confiance: 0.83)\n",
      "\u001B[1m1/1\u001B[0m \u001B[32m━━━━━━━━━━━━━━━━━━━━\u001B[0m\u001B[37m\u001B[0m \u001B[1m0s\u001B[0m 24ms/step\n",
      "Image: 046_de6d6bf0.jpg => Acteur prédit: Hugh Jackman (Confiance: 0.73)\n",
      "\u001B[1m1/1\u001B[0m \u001B[32m━━━━━━━━━━━━━━━━━━━━\u001B[0m\u001B[37m\u001B[0m \u001B[1m0s\u001B[0m 26ms/step\n",
      "Image: 047_54ea04fa.jpg => Acteur prédit: Hugh Jackman (Confiance: 0.99)\n",
      "\u001B[1m1/1\u001B[0m \u001B[32m━━━━━━━━━━━━━━━━━━━━\u001B[0m\u001B[37m\u001B[0m \u001B[1m0s\u001B[0m 27ms/step\n",
      "Image: 048_9d5874a5.jpg => Acteur prédit: Johnny Depp (Confiance: 0.41)\n",
      "\u001B[1m1/1\u001B[0m \u001B[32m━━━━━━━━━━━━━━━━━━━━\u001B[0m\u001B[37m\u001B[0m \u001B[1m0s\u001B[0m 25ms/step\n",
      "Image: 049_beaf3777.jpg => Acteur prédit: Hugh Jackman (Confiance: 0.70)\n",
      "\u001B[1m1/1\u001B[0m \u001B[32m━━━━━━━━━━━━━━━━━━━━\u001B[0m\u001B[37m\u001B[0m \u001B[1m0s\u001B[0m 23ms/step\n",
      "Image: 051_12956682.jpg => Acteur prédit: Tom Cruise (Confiance: 0.67)\n",
      "\u001B[1m1/1\u001B[0m \u001B[32m━━━━━━━━━━━━━━━━━━━━\u001B[0m\u001B[37m\u001B[0m \u001B[1m0s\u001B[0m 23ms/step\n",
      "Image: 052_f394c931.jpg => Acteur prédit: Hugh Jackman (Confiance: 0.66)\n",
      "\u001B[1m1/1\u001B[0m \u001B[32m━━━━━━━━━━━━━━━━━━━━\u001B[0m\u001B[37m\u001B[0m \u001B[1m0s\u001B[0m 30ms/step\n",
      "Image: 053_62909c7b.jpg => Acteur prédit: Hugh Jackman (Confiance: 0.66)\n",
      "\u001B[1m1/1\u001B[0m \u001B[32m━━━━━━━━━━━━━━━━━━━━\u001B[0m\u001B[37m\u001B[0m \u001B[1m0s\u001B[0m 31ms/step\n",
      "Image: 054_4274a548.jpg => Acteur prédit: Hugh Jackman (Confiance: 0.66)\n",
      "\u001B[1m1/1\u001B[0m \u001B[32m━━━━━━━━━━━━━━━━━━━━\u001B[0m\u001B[37m\u001B[0m \u001B[1m0s\u001B[0m 26ms/step\n",
      "Image: 056_11835953.jpg => Acteur prédit: Hugh Jackman (Confiance: 0.95)\n",
      "\u001B[1m1/1\u001B[0m \u001B[32m━━━━━━━━━━━━━━━━━━━━\u001B[0m\u001B[37m\u001B[0m \u001B[1m0s\u001B[0m 25ms/step\n",
      "Image: 057_6aecaa18.jpg => Acteur prédit: Hugh Jackman (Confiance: 0.90)\n",
      "\u001B[1m1/1\u001B[0m \u001B[32m━━━━━━━━━━━━━━━━━━━━\u001B[0m\u001B[37m\u001B[0m \u001B[1m0s\u001B[0m 27ms/step\n",
      "Image: 058_48dcb96c.jpg => Acteur prédit: Hugh Jackman (Confiance: 0.57)\n",
      "\u001B[1m1/1\u001B[0m \u001B[32m━━━━━━━━━━━━━━━━━━━━\u001B[0m\u001B[37m\u001B[0m \u001B[1m0s\u001B[0m 26ms/step\n",
      "Image: 059_aef6a0a8.jpg => Acteur prédit: Hugh Jackman (Confiance: 0.78)\n",
      "\u001B[1m1/1\u001B[0m \u001B[32m━━━━━━━━━━━━━━━━━━━━\u001B[0m\u001B[37m\u001B[0m \u001B[1m0s\u001B[0m 25ms/step\n",
      "Image: 060_2b7fbba5.jpg => Acteur prédit: Hugh Jackman (Confiance: 0.98)\n",
      "\u001B[1m1/1\u001B[0m \u001B[32m━━━━━━━━━━━━━━━━━━━━\u001B[0m\u001B[37m\u001B[0m \u001B[1m0s\u001B[0m 28ms/step\n",
      "Image: 061_2de5a089.jpg => Acteur prédit: Hugh Jackman (Confiance: 0.99)\n",
      "\u001B[1m1/1\u001B[0m \u001B[32m━━━━━━━━━━━━━━━━━━━━\u001B[0m\u001B[37m\u001B[0m \u001B[1m0s\u001B[0m 31ms/step\n",
      "Image: 062_5db87e94.jpg => Acteur prédit: Tom Cruise (Confiance: 0.71)\n",
      "\u001B[1m1/1\u001B[0m \u001B[32m━━━━━━━━━━━━━━━━━━━━\u001B[0m\u001B[37m\u001B[0m \u001B[1m0s\u001B[0m 33ms/step\n",
      "Image: 063_6f1c7f3e.jpg => Acteur prédit: Hugh Jackman (Confiance: 0.71)\n",
      "\u001B[1m1/1\u001B[0m \u001B[32m━━━━━━━━━━━━━━━━━━━━\u001B[0m\u001B[37m\u001B[0m \u001B[1m0s\u001B[0m 30ms/step\n",
      "Image: 064_12d52b76.jpg => Acteur prédit: Hugh Jackman (Confiance: 0.94)\n",
      "\u001B[1m1/1\u001B[0m \u001B[32m━━━━━━━━━━━━━━━━━━━━\u001B[0m\u001B[37m\u001B[0m \u001B[1m0s\u001B[0m 34ms/step\n",
      "Image: 065_db7b31f5.jpg => Acteur prédit: Hugh Jackman (Confiance: 0.83)\n",
      "\u001B[1m1/1\u001B[0m \u001B[32m━━━━━━━━━━━━━━━━━━━━\u001B[0m\u001B[37m\u001B[0m \u001B[1m0s\u001B[0m 26ms/step\n",
      "Image: 066_03ff28be.jpg => Acteur prédit: Hugh Jackman (Confiance: 0.73)\n",
      "\u001B[1m1/1\u001B[0m \u001B[32m━━━━━━━━━━━━━━━━━━━━\u001B[0m\u001B[37m\u001B[0m \u001B[1m0s\u001B[0m 29ms/step\n",
      "Image: 067_296269c3.jpg => Acteur prédit: Hugh Jackman (Confiance: 0.90)\n",
      "\u001B[1m1/1\u001B[0m \u001B[32m━━━━━━━━━━━━━━━━━━━━\u001B[0m\u001B[37m\u001B[0m \u001B[1m0s\u001B[0m 32ms/step\n",
      "Image: 068_474081ea.jpg => Acteur prédit: Hugh Jackman (Confiance: 0.99)\n",
      "\u001B[1m1/1\u001B[0m \u001B[32m━━━━━━━━━━━━━━━━━━━━\u001B[0m\u001B[37m\u001B[0m \u001B[1m0s\u001B[0m 32ms/step\n",
      "Image: 069_429fc9ee.jpg => Acteur prédit: Tom Cruise (Confiance: 0.53)\n",
      "\u001B[1m1/1\u001B[0m \u001B[32m━━━━━━━━━━━━━━━━━━━━\u001B[0m\u001B[37m\u001B[0m \u001B[1m0s\u001B[0m 33ms/step\n",
      "Image: 070_e88788cd.jpg => Acteur prédit: Hugh Jackman (Confiance: 0.89)\n",
      "\u001B[1m1/1\u001B[0m \u001B[32m━━━━━━━━━━━━━━━━━━━━\u001B[0m\u001B[37m\u001B[0m \u001B[1m0s\u001B[0m 32ms/step\n",
      "Image: 071_071d0cfc.jpg => Acteur prédit: Hugh Jackman (Confiance: 0.88)\n",
      "\u001B[1m1/1\u001B[0m \u001B[32m━━━━━━━━━━━━━━━━━━━━\u001B[0m\u001B[37m\u001B[0m \u001B[1m0s\u001B[0m 35ms/step\n",
      "Image: 072_c6df94c3.jpg => Acteur prédit: Tom Cruise (Confiance: 0.43)\n",
      "\u001B[1m1/1\u001B[0m \u001B[32m━━━━━━━━━━━━━━━━━━━━\u001B[0m\u001B[37m\u001B[0m \u001B[1m0s\u001B[0m 26ms/step\n",
      "Image: 073_812b8d10.jpg => Acteur prédit: Hugh Jackman (Confiance: 0.92)\n",
      "\u001B[1m1/1\u001B[0m \u001B[32m━━━━━━━━━━━━━━━━━━━━\u001B[0m\u001B[37m\u001B[0m \u001B[1m0s\u001B[0m 30ms/step\n",
      "Image: 074_d205687c.jpg => Acteur prédit: Hugh Jackman (Confiance: 0.94)\n",
      "\u001B[1m1/1\u001B[0m \u001B[32m━━━━━━━━━━━━━━━━━━━━\u001B[0m\u001B[37m\u001B[0m \u001B[1m0s\u001B[0m 27ms/step\n",
      "Image: 075_31d85976.jpg => Acteur prédit: Hugh Jackman (Confiance: 0.99)\n",
      "\u001B[1m1/1\u001B[0m \u001B[32m━━━━━━━━━━━━━━━━━━━━\u001B[0m\u001B[37m\u001B[0m \u001B[1m0s\u001B[0m 49ms/step\n",
      "Image: 076_b53060b4.jpg => Acteur prédit: Hugh Jackman (Confiance: 0.86)\n",
      "\u001B[1m1/1\u001B[0m \u001B[32m━━━━━━━━━━━━━━━━━━━━\u001B[0m\u001B[37m\u001B[0m \u001B[1m0s\u001B[0m 30ms/step\n",
      "Image: 077_08ff1da6.jpg => Acteur prédit: Hugh Jackman (Confiance: 0.95)\n",
      "\u001B[1m1/1\u001B[0m \u001B[32m━━━━━━━━━━━━━━━━━━━━\u001B[0m\u001B[37m\u001B[0m \u001B[1m0s\u001B[0m 27ms/step\n",
      "Image: 078_fd557ae2.jpg => Acteur prédit: Hugh Jackman (Confiance: 0.95)\n",
      "\u001B[1m1/1\u001B[0m \u001B[32m━━━━━━━━━━━━━━━━━━━━\u001B[0m\u001B[37m\u001B[0m \u001B[1m0s\u001B[0m 27ms/step\n",
      "Image: 079_dbb72b1d.jpg => Acteur prédit: Hugh Jackman (Confiance: 0.98)\n",
      "\u001B[1m1/1\u001B[0m \u001B[32m━━━━━━━━━━━━━━━━━━━━\u001B[0m\u001B[37m\u001B[0m \u001B[1m0s\u001B[0m 30ms/step\n",
      "Image: 080_52addc92.jpg => Acteur prédit: Hugh Jackman (Confiance: 0.80)\n",
      "\u001B[1m1/1\u001B[0m \u001B[32m━━━━━━━━━━━━━━━━━━━━\u001B[0m\u001B[37m\u001B[0m \u001B[1m0s\u001B[0m 26ms/step\n",
      "Image: 081_9f4d7bcb.jpg => Acteur prédit: Tom Cruise (Confiance: 0.44)\n",
      "\u001B[1m1/1\u001B[0m \u001B[32m━━━━━━━━━━━━━━━━━━━━\u001B[0m\u001B[37m\u001B[0m \u001B[1m0s\u001B[0m 34ms/step\n",
      "Image: 082_bf5ea9df.jpg => Acteur prédit: Hugh Jackman (Confiance: 1.00)\n",
      "\u001B[1m1/1\u001B[0m \u001B[32m━━━━━━━━━━━━━━━━━━━━\u001B[0m\u001B[37m\u001B[0m \u001B[1m0s\u001B[0m 32ms/step\n",
      "Image: 083_3ab573ea.jpg => Acteur prédit: Tom Cruise (Confiance: 0.48)\n",
      "\u001B[1m1/1\u001B[0m \u001B[32m━━━━━━━━━━━━━━━━━━━━\u001B[0m\u001B[37m\u001B[0m \u001B[1m0s\u001B[0m 31ms/step\n",
      "Image: 084_c4bb2e0e.jpg => Acteur prédit: Hugh Jackman (Confiance: 0.98)\n",
      "\u001B[1m1/1\u001B[0m \u001B[32m━━━━━━━━━━━━━━━━━━━━\u001B[0m\u001B[37m\u001B[0m \u001B[1m0s\u001B[0m 31ms/step\n",
      "Image: 085_394c2c3c.jpg => Acteur prédit: Hugh Jackman (Confiance: 0.92)\n",
      "\u001B[1m1/1\u001B[0m \u001B[32m━━━━━━━━━━━━━━━━━━━━\u001B[0m\u001B[37m\u001B[0m \u001B[1m0s\u001B[0m 31ms/step\n",
      "Image: 086_269deff5.jpg => Acteur prédit: Hugh Jackman (Confiance: 0.88)\n",
      "\u001B[1m1/1\u001B[0m \u001B[32m━━━━━━━━━━━━━━━━━━━━\u001B[0m\u001B[37m\u001B[0m \u001B[1m0s\u001B[0m 27ms/step\n",
      "Image: 087_7f9336ac.jpg => Acteur prédit: Hugh Jackman (Confiance: 0.95)\n",
      "\u001B[1m1/1\u001B[0m \u001B[32m━━━━━━━━━━━━━━━━━━━━\u001B[0m\u001B[37m\u001B[0m \u001B[1m0s\u001B[0m 33ms/step\n",
      "Image: 088_2ec116fe.jpg => Acteur prédit: Hugh Jackman (Confiance: 0.47)\n",
      "\u001B[1m1/1\u001B[0m \u001B[32m━━━━━━━━━━━━━━━━━━━━\u001B[0m\u001B[37m\u001B[0m \u001B[1m0s\u001B[0m 37ms/step\n",
      "Image: 089_a49ffdf2.jpg => Acteur prédit: Tom Cruise (Confiance: 0.63)\n",
      "\u001B[1m1/1\u001B[0m \u001B[32m━━━━━━━━━━━━━━━━━━━━\u001B[0m\u001B[37m\u001B[0m \u001B[1m0s\u001B[0m 33ms/step\n",
      "Image: 090_916ba69a.jpg => Acteur prédit: Hugh Jackman (Confiance: 0.94)\n",
      "\u001B[1m1/1\u001B[0m \u001B[32m━━━━━━━━━━━━━━━━━━━━\u001B[0m\u001B[37m\u001B[0m \u001B[1m0s\u001B[0m 26ms/step\n",
      "Image: 091_2ace2ad8.jpg => Acteur prédit: Hugh Jackman (Confiance: 0.62)\n",
      "\u001B[1m1/1\u001B[0m \u001B[32m━━━━━━━━━━━━━━━━━━━━\u001B[0m\u001B[37m\u001B[0m \u001B[1m0s\u001B[0m 25ms/step\n",
      "Image: 092_4e8dad7c.jpg => Acteur prédit: Hugh Jackman (Confiance: 0.85)\n",
      "\u001B[1m1/1\u001B[0m \u001B[32m━━━━━━━━━━━━━━━━━━━━\u001B[0m\u001B[37m\u001B[0m \u001B[1m0s\u001B[0m 30ms/step\n",
      "Image: 093_4faba724.jpg => Acteur prédit: Hugh Jackman (Confiance: 0.76)\n",
      "\u001B[1m1/1\u001B[0m \u001B[32m━━━━━━━━━━━━━━━━━━━━\u001B[0m\u001B[37m\u001B[0m \u001B[1m0s\u001B[0m 25ms/step\n",
      "Image: 094_bcb2a8f4.jpg => Acteur prédit: Tom Cruise (Confiance: 0.52)\n",
      "\u001B[1m1/1\u001B[0m \u001B[32m━━━━━━━━━━━━━━━━━━━━\u001B[0m\u001B[37m\u001B[0m \u001B[1m0s\u001B[0m 30ms/step\n",
      "Image: 096_b2e35bd2.jpg => Acteur prédit: Tom Cruise (Confiance: 0.37)\n",
      "\u001B[1m1/1\u001B[0m \u001B[32m━━━━━━━━━━━━━━━━━━━━\u001B[0m\u001B[37m\u001B[0m \u001B[1m0s\u001B[0m 28ms/step\n",
      "Image: 097_21a9bff5.jpg => Acteur prédit: Hugh Jackman (Confiance: 0.99)\n",
      "\u001B[1m1/1\u001B[0m \u001B[32m━━━━━━━━━━━━━━━━━━━━\u001B[0m\u001B[37m\u001B[0m \u001B[1m0s\u001B[0m 26ms/step\n",
      "Image: 098_5cb67f9d.jpg => Acteur prédit: Hugh Jackman (Confiance: 0.63)\n",
      "\u001B[1m1/1\u001B[0m \u001B[32m━━━━━━━━━━━━━━━━━━━━\u001B[0m\u001B[37m\u001B[0m \u001B[1m0s\u001B[0m 30ms/step\n",
      "Image: 099_8a31fcb9.jpg => Acteur prédit: Hugh Jackman (Confiance: 0.33)\n",
      "\u001B[1m1/1\u001B[0m \u001B[32m━━━━━━━━━━━━━━━━━━━━\u001B[0m\u001B[37m\u001B[0m \u001B[1m0s\u001B[0m 28ms/step\n",
      "Image: 100_1ea80814.jpg => Acteur prédit: Hugh Jackman (Confiance: 0.72)\n",
      "Total d'images évaluées : 97\n",
      "Prédictions correctes : 81\n",
      "Précision globale : 83.51%\n"
     ]
    }
   ],
   "execution_count": 21
  }
 ]
}
