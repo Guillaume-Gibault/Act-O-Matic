{
 "nbformat": 4,
 "nbformat_minor": 0,
 "metadata": {
  "colab": {
   "provenance": [],
   "authorship_tag": "ABX9TyPRtSnNpvsI1SEb4oyEs51W"
  },
  "kernelspec": {
   "name": "python3",
   "display_name": "Python 3 (ipykernel)",
   "language": "python"
  },
  "language_info": {
   "name": "python"
  }
 },
 "cells": [
  {
   "cell_type": "code",
   "source": [
    "import os\n",
    "import numpy as np\n",
    "import tensorflow as tf\n",
    "from tensorflow.keras.preprocessing.image import ImageDataGenerator\n",
    "from tensorflow.keras.applications import MobileNetV2\n",
    "from tensorflow.keras.models import Model\n",
    "from tensorflow.keras.layers import Dense, GlobalAveragePooling2D\n",
    "from tensorflow.keras.optimizers import Adam"
   ],
   "metadata": {
    "id": "qhvCU9XHHddM",
    "executionInfo": {
     "status": "ok",
     "timestamp": 1737446898892,
     "user_tz": -60,
     "elapsed": 187,
     "user": {
      "displayName": "Tom Desrumeaux",
      "userId": "17613307837492517386"
     }
    },
    "ExecuteTime": {
     "end_time": "2025-01-21T10:05:07.568811Z",
     "start_time": "2025-01-21T10:05:07.562420Z"
    }
   },
   "outputs": [],
   "execution_count": 31
  },
  {
   "cell_type": "code",
   "source": [
    "# Configurations\n",
    "input_directory = r\"C:\\Users\\33658\\Documents\\Celebrity Faces Cropped\"  # Dataset cropped\n",
    "image_size = (224, 224)  # Taille des images pour MobileNetV2\n",
    "learning_rate = 0.0008\n",
    "batch_size = 32\n"
   ],
   "metadata": {
    "id": "neHgFGFvHM1J",
    "executionInfo": {
     "status": "ok",
     "timestamp": 1737446953178,
     "user_tz": -60,
     "elapsed": 251,
     "user": {
      "displayName": "Tom Desrumeaux",
      "userId": "17613307837492517386"
     }
    },
    "ExecuteTime": {
     "end_time": "2025-01-21T10:05:10.523812Z",
     "start_time": "2025-01-21T10:05:10.520289Z"
    }
   },
   "outputs": [],
   "execution_count": 32
  },
  {
   "cell_type": "code",
   "source": [
    "\n",
    "# Étape 1 : Préparer les données\n",
    "datagen = ImageDataGenerator(\n",
    "    rescale=1.0 / 255,  # Normaliser les pixels\n",
    "    validation_split=0.2,  # 20% pour la validation\n",
    "    horizontal_flip=True,  # Augmenter les données\n",
    "    zoom_range=0.2\n",
    ")\n",
    "\n",
    "train_generator = datagen.flow_from_directory(\n",
    "    input_directory,\n",
    "    target_size=image_size,\n",
    "    batch_size=batch_size,\n",
    "    class_mode=\"categorical\",\n",
    "    subset=\"training\"\n",
    ")\n",
    "\n",
    "validation_generator = datagen.flow_from_directory(\n",
    "    input_directory,\n",
    "    target_size=image_size,\n",
    "    batch_size=batch_size,\n",
    "    class_mode=\"categorical\",\n",
    "    subset=\"validation\"\n",
    ")"
   ],
   "metadata": {
    "colab": {
     "base_uri": "https://localhost:8080/"
    },
    "id": "NTqIChvtHjya",
    "executionInfo": {
     "status": "ok",
     "timestamp": 1737446955501,
     "user_tz": -60,
     "elapsed": 1131,
     "user": {
      "displayName": "Tom Desrumeaux",
      "userId": "17613307837492517386"
     }
    },
    "outputId": "2051e99b-0aa8-45a7-e7f6-b49d6fca7e3a",
    "ExecuteTime": {
     "end_time": "2025-01-21T10:05:14.727399Z",
     "start_time": "2025-01-21T10:05:14.689896Z"
    }
   },
   "outputs": [
    {
     "name": "stdout",
     "output_type": "stream",
     "text": [
      "Found 601 images belonging to 9 classes.\n",
      "Found 146 images belonging to 9 classes.\n"
     ]
    }
   ],
   "execution_count": 33
  },
  {
   "cell_type": "code",
   "source": [
    "# Étape 2 : Construire le modèle\n",
    "base_model = MobileNetV2(weights=\"imagenet\", include_top=False, input_shape=(224, 224, 3))\n",
    "x = base_model.output\n",
    "x = GlobalAveragePooling2D()(x)\n",
    "x = Dense(128, activation=\"relu\")(x)\n",
    "predictions = Dense(train_generator.num_classes, activation=\"softmax\")(x)\n",
    "\n",
    "model = Model(inputs=base_model.input, outputs=predictions)\n",
    "\n",
    "# Geler les couches du modèle de base\n",
    "for layer in base_model.layers:\n",
    "    layer.trainable = False"
   ],
   "metadata": {
    "id": "u3CtMQcxHUOb",
    "executionInfo": {
     "status": "ok",
     "timestamp": 1737418479557,
     "user_tz": -60,
     "elapsed": 900,
     "user": {
      "displayName": "Tom Desrumeaux",
      "userId": "17613307837492517386"
     }
    },
    "ExecuteTime": {
     "end_time": "2025-01-21T10:06:02.495633Z",
     "start_time": "2025-01-21T10:06:02.053466Z"
    }
   },
   "outputs": [],
   "execution_count": 35
  },
  {
   "cell_type": "code",
   "source": [
    "# Étape 3 : Compiler le modèle\n",
    "model.compile(optimizer=Adam(learning_rate=learning_rate),\n",
    "              loss=\"categorical_crossentropy\",\n",
    "              metrics=[\"accuracy\"])\n"
   ],
   "metadata": {
    "id": "4osGTgx7HW6L",
    "executionInfo": {
     "status": "ok",
     "timestamp": 1737418479558,
     "user_tz": -60,
     "elapsed": 4,
     "user": {
      "displayName": "Tom Desrumeaux",
      "userId": "17613307837492517386"
     }
    },
    "ExecuteTime": {
     "end_time": "2025-01-21T10:06:05.651267Z",
     "start_time": "2025-01-21T10:06:05.642801Z"
    }
   },
   "outputs": [],
   "execution_count": 36
  },
  {
   "cell_type": "code",
   "source": [
    "from tensorflow.keras.callbacks import EarlyStopping\n",
    "\n",
    "# Configurer Early Stopping\n",
    "early_stopping = EarlyStopping(\n",
    "    monitor=\"val_loss\",  # Surveiller la perte sur l'ensemble de validation\n",
    "    patience=25,          # Nombre d'époques sans amélioration avant d'arrêter\n",
    "    restore_best_weights=True,  # Restaurer les poids correspondant à la meilleure époque\n",
    "    verbose=1            # Afficher un message lorsque l'entraînement s'arrête\n",
    ")\n"
   ],
   "metadata": {
    "id": "yG_74riZ7fI1",
    "executionInfo": {
     "status": "ok",
     "timestamp": 1737418479558,
     "user_tz": -60,
     "elapsed": 3,
     "user": {
      "displayName": "Tom Desrumeaux",
      "userId": "17613307837492517386"
     }
    },
    "ExecuteTime": {
     "end_time": "2025-01-21T10:06:11.212147Z",
     "start_time": "2025-01-21T10:06:11.206988Z"
    }
   },
   "outputs": [],
   "execution_count": 37
  },
  {
   "cell_type": "code",
   "source": [
    "# Étape 4 : Entraîner le modèle\n",
    "num_epochs = 125\n",
    "\n",
    "history = model.fit(\n",
    "    train_generator,\n",
    "    validation_data=validation_generator,\n",
    "    epochs=num_epochs,\n",
    "    steps_per_epoch=train_generator.samples // batch_size,\n",
    "    validation_steps=validation_generator.samples // batch_size,\n",
    "    callbacks=[early_stopping]  # Ajouter le callback Early Stopping\n",
    ")"
   ],
   "metadata": {
    "colab": {
     "base_uri": "https://localhost:8080/"
    },
    "id": "H7m4xIgkHZEl",
    "executionInfo": {
     "status": "ok",
     "timestamp": 1737419553324,
     "user_tz": -60,
     "elapsed": 1073769,
     "user": {
      "displayName": "Tom Desrumeaux",
      "userId": "17613307837492517386"
     }
    },
    "outputId": "41185004-da9f-4c85-dd20-38b9c17bbb11",
    "ExecuteTime": {
     "end_time": "2025-01-21T10:16:02.487688Z",
     "start_time": "2025-01-21T10:06:14.756957Z"
    }
   },
   "outputs": [
    {
     "name": "stdout",
     "output_type": "stream",
     "text": [
      "Epoch 1/125\n",
      "\u001B[1m18/18\u001B[0m \u001B[32m━━━━━━━━━━━━━━━━━━━━\u001B[0m\u001B[37m\u001B[0m \u001B[1m18s\u001B[0m 678ms/step - accuracy: 0.2067 - loss: 2.1774 - val_accuracy: 0.5000 - val_loss: 1.5779\n",
      "Epoch 2/125\n",
      "\u001B[1m18/18\u001B[0m \u001B[32m━━━━━━━━━━━━━━━━━━━━\u001B[0m\u001B[37m\u001B[0m \u001B[1m1s\u001B[0m 23ms/step - accuracy: 0.4375 - loss: 1.5982 - val_accuracy: 0.5556 - val_loss: 1.4610\n",
      "Epoch 3/125\n",
      "\u001B[1m18/18\u001B[0m \u001B[32m━━━━━━━━━━━━━━━━━━━━\u001B[0m\u001B[37m\u001B[0m \u001B[1m8s\u001B[0m 378ms/step - accuracy: 0.5724 - loss: 1.4134 - val_accuracy: 0.7344 - val_loss: 1.0362\n",
      "Epoch 4/125\n",
      "\u001B[1m18/18\u001B[0m \u001B[32m━━━━━━━━━━━━━━━━━━━━\u001B[0m\u001B[37m\u001B[0m \u001B[1m0s\u001B[0m 7ms/step - accuracy: 0.5625 - loss: 1.3061 - val_accuracy: 0.7778 - val_loss: 1.1163\n",
      "Epoch 5/125\n",
      "\u001B[1m18/18\u001B[0m \u001B[32m━━━━━━━━━━━━━━━━━━━━\u001B[0m\u001B[37m\u001B[0m \u001B[1m9s\u001B[0m 409ms/step - accuracy: 0.6409 - loss: 1.1669 - val_accuracy: 0.7188 - val_loss: 0.9136\n",
      "Epoch 6/125\n",
      "\u001B[1m18/18\u001B[0m \u001B[32m━━━━━━━━━━━━━━━━━━━━\u001B[0m\u001B[37m\u001B[0m \u001B[1m0s\u001B[0m 9ms/step - accuracy: 0.5938 - loss: 1.1647 - val_accuracy: 0.7222 - val_loss: 0.9023\n",
      "Epoch 7/125\n",
      "\u001B[1m18/18\u001B[0m \u001B[32m━━━━━━━━━━━━━━━━━━━━\u001B[0m\u001B[37m\u001B[0m \u001B[1m9s\u001B[0m 414ms/step - accuracy: 0.7347 - loss: 0.8899 - val_accuracy: 0.8125 - val_loss: 0.7954\n",
      "Epoch 8/125\n",
      "\u001B[1m18/18\u001B[0m \u001B[32m━━━━━━━━━━━━━━━━━━━━\u001B[0m\u001B[37m\u001B[0m \u001B[1m0s\u001B[0m 9ms/step - accuracy: 0.6250 - loss: 0.9726 - val_accuracy: 0.7222 - val_loss: 0.9116\n",
      "Epoch 9/125\n",
      "\u001B[1m18/18\u001B[0m \u001B[32m━━━━━━━━━━━━━━━━━━━━\u001B[0m\u001B[37m\u001B[0m \u001B[1m10s\u001B[0m 454ms/step - accuracy: 0.7992 - loss: 0.7203 - val_accuracy: 0.8359 - val_loss: 0.6974\n",
      "Epoch 10/125\n",
      "\u001B[1m18/18\u001B[0m \u001B[32m━━━━━━━━━━━━━━━━━━━━\u001B[0m\u001B[37m\u001B[0m \u001B[1m0s\u001B[0m 12ms/step - accuracy: 0.7188 - loss: 0.6905 - val_accuracy: 0.8889 - val_loss: 0.6658\n",
      "Epoch 11/125\n",
      "\u001B[1m18/18\u001B[0m \u001B[32m━━━━━━━━━━━━━━━━━━━━\u001B[0m\u001B[37m\u001B[0m \u001B[1m10s\u001B[0m 485ms/step - accuracy: 0.7948 - loss: 0.6890 - val_accuracy: 0.8828 - val_loss: 0.5460\n",
      "Epoch 12/125\n",
      "\u001B[1m18/18\u001B[0m \u001B[32m━━━━━━━━━━━━━━━━━━━━\u001B[0m\u001B[37m\u001B[0m \u001B[1m0s\u001B[0m 10ms/step - accuracy: 0.8800 - loss: 0.5392 - val_accuracy: 0.6667 - val_loss: 0.7601\n",
      "Epoch 13/125\n",
      "\u001B[1m18/18\u001B[0m \u001B[32m━━━━━━━━━━━━━━━━━━━━\u001B[0m\u001B[37m\u001B[0m \u001B[1m10s\u001B[0m 486ms/step - accuracy: 0.8250 - loss: 0.5816 - val_accuracy: 0.7734 - val_loss: 0.7368\n",
      "Epoch 14/125\n",
      "\u001B[1m18/18\u001B[0m \u001B[32m━━━━━━━━━━━━━━━━━━━━\u001B[0m\u001B[37m\u001B[0m \u001B[1m0s\u001B[0m 13ms/step - accuracy: 0.7188 - loss: 0.7553 - val_accuracy: 0.8333 - val_loss: 0.5315\n",
      "Epoch 15/125\n",
      "\u001B[1m18/18\u001B[0m \u001B[32m━━━━━━━━━━━━━━━━━━━━\u001B[0m\u001B[37m\u001B[0m \u001B[1m11s\u001B[0m 519ms/step - accuracy: 0.8483 - loss: 0.4922 - val_accuracy: 0.8516 - val_loss: 0.5774\n",
      "Epoch 16/125\n",
      "\u001B[1m18/18\u001B[0m \u001B[32m━━━━━━━━━━━━━━━━━━━━\u001B[0m\u001B[37m\u001B[0m \u001B[1m1s\u001B[0m 16ms/step - accuracy: 0.8125 - loss: 0.7052 - val_accuracy: 0.7778 - val_loss: 0.6383\n",
      "Epoch 17/125\n",
      "\u001B[1m18/18\u001B[0m \u001B[32m━━━━━━━━━━━━━━━━━━━━\u001B[0m\u001B[37m\u001B[0m \u001B[1m12s\u001B[0m 575ms/step - accuracy: 0.8814 - loss: 0.4099 - val_accuracy: 0.8203 - val_loss: 0.5218\n",
      "Epoch 18/125\n",
      "\u001B[1m18/18\u001B[0m \u001B[32m━━━━━━━━━━━━━━━━━━━━\u001B[0m\u001B[37m\u001B[0m \u001B[1m0s\u001B[0m 12ms/step - accuracy: 0.7812 - loss: 0.4757 - val_accuracy: 0.8889 - val_loss: 0.6567\n",
      "Epoch 19/125\n",
      "\u001B[1m18/18\u001B[0m \u001B[32m━━━━━━━━━━━━━━━━━━━━\u001B[0m\u001B[37m\u001B[0m \u001B[1m14s\u001B[0m 658ms/step - accuracy: 0.9031 - loss: 0.4015 - val_accuracy: 0.8828 - val_loss: 0.4682\n",
      "Epoch 20/125\n",
      "\u001B[1m18/18\u001B[0m \u001B[32m━━━━━━━━━━━━━━━━━━━━\u001B[0m\u001B[37m\u001B[0m \u001B[1m1s\u001B[0m 20ms/step - accuracy: 0.8438 - loss: 0.4500 - val_accuracy: 0.8889 - val_loss: 0.4327\n",
      "Epoch 21/125\n",
      "\u001B[1m18/18\u001B[0m \u001B[32m━━━━━━━━━━━━━━━━━━━━\u001B[0m\u001B[37m\u001B[0m \u001B[1m15s\u001B[0m 745ms/step - accuracy: 0.9068 - loss: 0.3535 - val_accuracy: 0.8281 - val_loss: 0.5580\n",
      "Epoch 22/125\n",
      "\u001B[1m18/18\u001B[0m \u001B[32m━━━━━━━━━━━━━━━━━━━━\u001B[0m\u001B[37m\u001B[0m \u001B[1m1s\u001B[0m 26ms/step - accuracy: 0.9062 - loss: 0.3146 - val_accuracy: 0.9444 - val_loss: 0.3724\n",
      "Epoch 23/125\n",
      "\u001B[1m18/18\u001B[0m \u001B[32m━━━━━━━━━━━━━━━━━━━━\u001B[0m\u001B[37m\u001B[0m \u001B[1m15s\u001B[0m 713ms/step - accuracy: 0.8978 - loss: 0.3569 - val_accuracy: 0.8203 - val_loss: 0.5290\n",
      "Epoch 24/125\n",
      "\u001B[1m18/18\u001B[0m \u001B[32m━━━━━━━━━━━━━━━━━━━━\u001B[0m\u001B[37m\u001B[0m \u001B[1m1s\u001B[0m 23ms/step - accuracy: 0.8438 - loss: 0.4113 - val_accuracy: 0.8333 - val_loss: 0.3710\n",
      "Epoch 25/125\n",
      "\u001B[1m18/18\u001B[0m \u001B[32m━━━━━━━━━━━━━━━━━━━━\u001B[0m\u001B[37m\u001B[0m \u001B[1m14s\u001B[0m 679ms/step - accuracy: 0.9152 - loss: 0.2938 - val_accuracy: 0.8672 - val_loss: 0.4341\n",
      "Epoch 26/125\n",
      "\u001B[1m18/18\u001B[0m \u001B[32m━━━━━━━━━━━━━━━━━━━━\u001B[0m\u001B[37m\u001B[0m \u001B[1m1s\u001B[0m 17ms/step - accuracy: 0.8750 - loss: 0.3522 - val_accuracy: 0.7778 - val_loss: 0.7002\n",
      "Epoch 27/125\n",
      "\u001B[1m18/18\u001B[0m \u001B[32m━━━━━━━━━━━━━━━━━━━━\u001B[0m\u001B[37m\u001B[0m \u001B[1m14s\u001B[0m 685ms/step - accuracy: 0.9364 - loss: 0.2894 - val_accuracy: 0.8594 - val_loss: 0.4261\n",
      "Epoch 28/125\n",
      "\u001B[1m18/18\u001B[0m \u001B[32m━━━━━━━━━━━━━━━━━━━━\u001B[0m\u001B[37m\u001B[0m \u001B[1m1s\u001B[0m 18ms/step - accuracy: 0.8750 - loss: 0.4030 - val_accuracy: 0.9444 - val_loss: 0.4701\n",
      "Epoch 29/125\n",
      "\u001B[1m18/18\u001B[0m \u001B[32m━━━━━━━━━━━━━━━━━━━━\u001B[0m\u001B[37m\u001B[0m \u001B[1m14s\u001B[0m 662ms/step - accuracy: 0.9236 - loss: 0.2553 - val_accuracy: 0.8516 - val_loss: 0.4375\n",
      "Epoch 30/125\n",
      "\u001B[1m18/18\u001B[0m \u001B[32m━━━━━━━━━━━━━━━━━━━━\u001B[0m\u001B[37m\u001B[0m \u001B[1m1s\u001B[0m 20ms/step - accuracy: 0.9375 - loss: 0.2671 - val_accuracy: 0.9444 - val_loss: 0.1969\n",
      "Epoch 31/125\n",
      "\u001B[1m18/18\u001B[0m \u001B[32m━━━━━━━━━━━━━━━━━━━━\u001B[0m\u001B[37m\u001B[0m \u001B[1m15s\u001B[0m 715ms/step - accuracy: 0.9502 - loss: 0.2292 - val_accuracy: 0.8516 - val_loss: 0.4347\n",
      "Epoch 32/125\n",
      "\u001B[1m18/18\u001B[0m \u001B[32m━━━━━━━━━━━━━━━━━━━━\u001B[0m\u001B[37m\u001B[0m \u001B[1m1s\u001B[0m 21ms/step - accuracy: 0.9375 - loss: 0.2076 - val_accuracy: 0.9444 - val_loss: 0.3332\n",
      "Epoch 33/125\n",
      "\u001B[1m18/18\u001B[0m \u001B[32m━━━━━━━━━━━━━━━━━━━━\u001B[0m\u001B[37m\u001B[0m \u001B[1m15s\u001B[0m 710ms/step - accuracy: 0.9413 - loss: 0.2573 - val_accuracy: 0.8516 - val_loss: 0.4093\n",
      "Epoch 34/125\n",
      "\u001B[1m18/18\u001B[0m \u001B[32m━━━━━━━━━━━━━━━━━━━━\u001B[0m\u001B[37m\u001B[0m \u001B[1m1s\u001B[0m 20ms/step - accuracy: 0.9688 - loss: 0.2236 - val_accuracy: 0.9444 - val_loss: 0.1391\n",
      "Epoch 35/125\n",
      "\u001B[1m18/18\u001B[0m \u001B[32m━━━━━━━━━━━━━━━━━━━━\u001B[0m\u001B[37m\u001B[0m \u001B[1m14s\u001B[0m 672ms/step - accuracy: 0.9539 - loss: 0.2102 - val_accuracy: 0.8672 - val_loss: 0.3732\n",
      "Epoch 36/125\n",
      "\u001B[1m18/18\u001B[0m \u001B[32m━━━━━━━━━━━━━━━━━━━━\u001B[0m\u001B[37m\u001B[0m \u001B[1m1s\u001B[0m 17ms/step - accuracy: 1.0000 - loss: 0.0822 - val_accuracy: 0.8889 - val_loss: 0.2424\n",
      "Epoch 37/125\n",
      "\u001B[1m18/18\u001B[0m \u001B[32m━━━━━━━━━━━━━━━━━━━━\u001B[0m\u001B[37m\u001B[0m \u001B[1m15s\u001B[0m 750ms/step - accuracy: 0.9549 - loss: 0.2156 - val_accuracy: 0.9297 - val_loss: 0.2518\n",
      "Epoch 38/125\n",
      "\u001B[1m18/18\u001B[0m \u001B[32m━━━━━━━━━━━━━━━━━━━━\u001B[0m\u001B[37m\u001B[0m \u001B[1m1s\u001B[0m 16ms/step - accuracy: 1.0000 - loss: 0.1201 - val_accuracy: 0.7778 - val_loss: 0.5711\n",
      "Epoch 39/125\n",
      "\u001B[1m18/18\u001B[0m \u001B[32m━━━━━━━━━━━━━━━━━━━━\u001B[0m\u001B[37m\u001B[0m \u001B[1m15s\u001B[0m 748ms/step - accuracy: 0.9565 - loss: 0.1753 - val_accuracy: 0.8984 - val_loss: 0.3099\n",
      "Epoch 40/125\n",
      "\u001B[1m18/18\u001B[0m \u001B[32m━━━━━━━━━━━━━━━━━━━━\u001B[0m\u001B[37m\u001B[0m \u001B[1m1s\u001B[0m 21ms/step - accuracy: 0.9375 - loss: 0.1692 - val_accuracy: 0.7222 - val_loss: 0.5502\n",
      "Epoch 41/125\n",
      "\u001B[1m18/18\u001B[0m \u001B[32m━━━━━━━━━━━━━━━━━━━━\u001B[0m\u001B[37m\u001B[0m \u001B[1m21s\u001B[0m 963ms/step - accuracy: 0.9743 - loss: 0.1604 - val_accuracy: 0.8906 - val_loss: 0.3031\n",
      "Epoch 42/125\n",
      "\u001B[1m18/18\u001B[0m \u001B[32m━━━━━━━━━━━━━━━━━━━━\u001B[0m\u001B[37m\u001B[0m \u001B[1m1s\u001B[0m 23ms/step - accuracy: 0.9688 - loss: 0.1566 - val_accuracy: 0.8333 - val_loss: 0.3984\n",
      "Epoch 43/125\n",
      "\u001B[1m18/18\u001B[0m \u001B[32m━━━━━━━━━━━━━━━━━━━━\u001B[0m\u001B[37m\u001B[0m \u001B[1m17s\u001B[0m 727ms/step - accuracy: 0.9461 - loss: 0.2084 - val_accuracy: 0.8281 - val_loss: 0.4540\n",
      "Epoch 44/125\n",
      "\u001B[1m18/18\u001B[0m \u001B[32m━━━━━━━━━━━━━━━━━━━━\u001B[0m\u001B[37m\u001B[0m \u001B[1m1s\u001B[0m 19ms/step - accuracy: 0.9688 - loss: 0.1818 - val_accuracy: 1.0000 - val_loss: 0.0780\n",
      "Epoch 45/125\n",
      "\u001B[1m18/18\u001B[0m \u001B[32m━━━━━━━━━━━━━━━━━━━━\u001B[0m\u001B[37m\u001B[0m \u001B[1m14s\u001B[0m 682ms/step - accuracy: 0.9713 - loss: 0.1586 - val_accuracy: 0.8750 - val_loss: 0.2982\n",
      "Epoch 46/125\n",
      "\u001B[1m18/18\u001B[0m \u001B[32m━━━━━━━━━━━━━━━━━━━━\u001B[0m\u001B[37m\u001B[0m \u001B[1m1s\u001B[0m 19ms/step - accuracy: 1.0000 - loss: 0.1248 - val_accuracy: 0.8889 - val_loss: 0.2826\n",
      "Epoch 47/125\n",
      "\u001B[1m18/18\u001B[0m \u001B[32m━━━━━━━━━━━━━━━━━━━━\u001B[0m\u001B[37m\u001B[0m \u001B[1m16s\u001B[0m 733ms/step - accuracy: 0.9566 - loss: 0.1551 - val_accuracy: 0.8359 - val_loss: 0.4450\n",
      "Epoch 48/125\n",
      "\u001B[1m18/18\u001B[0m \u001B[32m━━━━━━━━━━━━━━━━━━━━\u001B[0m\u001B[37m\u001B[0m \u001B[1m1s\u001B[0m 17ms/step - accuracy: 0.9062 - loss: 0.2341 - val_accuracy: 1.0000 - val_loss: 0.1236\n",
      "Epoch 49/125\n",
      "\u001B[1m18/18\u001B[0m \u001B[32m━━━━━━━━━━━━━━━━━━━━\u001B[0m\u001B[37m\u001B[0m \u001B[1m14s\u001B[0m 663ms/step - accuracy: 0.9742 - loss: 0.1444 - val_accuracy: 0.8984 - val_loss: 0.2689\n",
      "Epoch 50/125\n",
      "\u001B[1m18/18\u001B[0m \u001B[32m━━━━━━━━━━━━━━━━━━━━\u001B[0m\u001B[37m\u001B[0m \u001B[1m1s\u001B[0m 17ms/step - accuracy: 0.9688 - loss: 0.1120 - val_accuracy: 0.8889 - val_loss: 0.3667\n",
      "Epoch 51/125\n",
      "\u001B[1m18/18\u001B[0m \u001B[32m━━━━━━━━━━━━━━━━━━━━\u001B[0m\u001B[37m\u001B[0m \u001B[1m14s\u001B[0m 668ms/step - accuracy: 0.9817 - loss: 0.1088 - val_accuracy: 0.8984 - val_loss: 0.3708\n",
      "Epoch 52/125\n",
      "\u001B[1m18/18\u001B[0m \u001B[32m━━━━━━━━━━━━━━━━━━━━\u001B[0m\u001B[37m\u001B[0m \u001B[1m1s\u001B[0m 20ms/step - accuracy: 1.0000 - loss: 0.0986 - val_accuracy: 1.0000 - val_loss: 0.0318\n",
      "Epoch 53/125\n",
      "\u001B[1m18/18\u001B[0m \u001B[32m━━━━━━━━━━━━━━━━━━━━\u001B[0m\u001B[37m\u001B[0m \u001B[1m14s\u001B[0m 657ms/step - accuracy: 0.9728 - loss: 0.1356 - val_accuracy: 0.8828 - val_loss: 0.3343\n",
      "Epoch 54/125\n",
      "\u001B[1m18/18\u001B[0m \u001B[32m━━━━━━━━━━━━━━━━━━━━\u001B[0m\u001B[37m\u001B[0m \u001B[1m1s\u001B[0m 16ms/step - accuracy: 0.9688 - loss: 0.1747 - val_accuracy: 0.7778 - val_loss: 0.4338\n",
      "Epoch 55/125\n",
      "\u001B[1m18/18\u001B[0m \u001B[32m━━━━━━━━━━━━━━━━━━━━\u001B[0m\u001B[37m\u001B[0m \u001B[1m15s\u001B[0m 710ms/step - accuracy: 0.9801 - loss: 0.1285 - val_accuracy: 0.8828 - val_loss: 0.3311\n",
      "Epoch 56/125\n",
      "\u001B[1m18/18\u001B[0m \u001B[32m━━━━━━━━━━━━━━━━━━━━\u001B[0m\u001B[37m\u001B[0m \u001B[1m1s\u001B[0m 18ms/step - accuracy: 1.0000 - loss: 0.0486 - val_accuracy: 0.7778 - val_loss: 0.6678\n",
      "Epoch 57/125\n",
      "\u001B[1m18/18\u001B[0m \u001B[32m━━━━━━━━━━━━━━━━━━━━\u001B[0m\u001B[37m\u001B[0m \u001B[1m15s\u001B[0m 734ms/step - accuracy: 0.9551 - loss: 0.1648 - val_accuracy: 0.9453 - val_loss: 0.2298\n",
      "Epoch 58/125\n",
      "\u001B[1m18/18\u001B[0m \u001B[32m━━━━━━━━━━━━━━━━━━━━\u001B[0m\u001B[37m\u001B[0m \u001B[1m1s\u001B[0m 19ms/step - accuracy: 1.0000 - loss: 0.0712 - val_accuracy: 0.9444 - val_loss: 0.1769\n",
      "Epoch 59/125\n",
      "\u001B[1m18/18\u001B[0m \u001B[32m━━━━━━━━━━━━━━━━━━━━\u001B[0m\u001B[37m\u001B[0m \u001B[1m14s\u001B[0m 668ms/step - accuracy: 0.9795 - loss: 0.1116 - val_accuracy: 0.9219 - val_loss: 0.2984\n",
      "Epoch 60/125\n",
      "\u001B[1m18/18\u001B[0m \u001B[32m━━━━━━━━━━━━━━━━━━━━\u001B[0m\u001B[37m\u001B[0m \u001B[1m1s\u001B[0m 18ms/step - accuracy: 1.0000 - loss: 0.0910 - val_accuracy: 0.8333 - val_loss: 0.4196\n",
      "Epoch 61/125\n",
      "\u001B[1m18/18\u001B[0m \u001B[32m━━━━━━━━━━━━━━━━━━━━\u001B[0m\u001B[37m\u001B[0m \u001B[1m14s\u001B[0m 661ms/step - accuracy: 0.9950 - loss: 0.1051 - val_accuracy: 0.8672 - val_loss: 0.3849\n",
      "Epoch 62/125\n",
      "\u001B[1m18/18\u001B[0m \u001B[32m━━━━━━━━━━━━━━━━━━━━\u001B[0m\u001B[37m\u001B[0m \u001B[1m1s\u001B[0m 18ms/step - accuracy: 1.0000 - loss: 0.0955 - val_accuracy: 0.8333 - val_loss: 0.5019\n",
      "Epoch 63/125\n",
      "\u001B[1m18/18\u001B[0m \u001B[32m━━━━━━━━━━━━━━━━━━━━\u001B[0m\u001B[37m\u001B[0m \u001B[1m14s\u001B[0m 674ms/step - accuracy: 0.9862 - loss: 0.0919 - val_accuracy: 0.8984 - val_loss: 0.3346\n",
      "Epoch 64/125\n",
      "\u001B[1m18/18\u001B[0m \u001B[32m━━━━━━━━━━━━━━━━━━━━\u001B[0m\u001B[37m\u001B[0m \u001B[1m1s\u001B[0m 17ms/step - accuracy: 0.9688 - loss: 0.1182 - val_accuracy: 1.0000 - val_loss: 0.0774\n",
      "Epoch 65/125\n",
      "\u001B[1m18/18\u001B[0m \u001B[32m━━━━━━━━━━━━━━━━━━━━\u001B[0m\u001B[37m\u001B[0m \u001B[1m14s\u001B[0m 673ms/step - accuracy: 0.9735 - loss: 0.1189 - val_accuracy: 0.8828 - val_loss: 0.3412\n",
      "Epoch 66/125\n",
      "\u001B[1m18/18\u001B[0m \u001B[32m━━━━━━━━━━━━━━━━━━━━\u001B[0m\u001B[37m\u001B[0m \u001B[1m1s\u001B[0m 17ms/step - accuracy: 0.9688 - loss: 0.1452 - val_accuracy: 1.0000 - val_loss: 0.1932\n",
      "Epoch 67/125\n",
      "\u001B[1m18/18\u001B[0m \u001B[32m━━━━━━━━━━━━━━━━━━━━\u001B[0m\u001B[37m\u001B[0m \u001B[1m14s\u001B[0m 684ms/step - accuracy: 0.9849 - loss: 0.1046 - val_accuracy: 0.9062 - val_loss: 0.2491\n",
      "Epoch 68/125\n",
      "\u001B[1m18/18\u001B[0m \u001B[32m━━━━━━━━━━━━━━━━━━━━\u001B[0m\u001B[37m\u001B[0m \u001B[1m1s\u001B[0m 19ms/step - accuracy: 1.0000 - loss: 0.1253 - val_accuracy: 0.9444 - val_loss: 0.2576\n",
      "Epoch 69/125\n",
      "\u001B[1m18/18\u001B[0m \u001B[32m━━━━━━━━━━━━━━━━━━━━\u001B[0m\u001B[37m\u001B[0m \u001B[1m15s\u001B[0m 681ms/step - accuracy: 0.9770 - loss: 0.1044 - val_accuracy: 0.8828 - val_loss: 0.3610\n",
      "Epoch 70/125\n",
      "\u001B[1m18/18\u001B[0m \u001B[32m━━━━━━━━━━━━━━━━━━━━\u001B[0m\u001B[37m\u001B[0m \u001B[1m1s\u001B[0m 23ms/step - accuracy: 1.0000 - loss: 0.0377 - val_accuracy: 1.0000 - val_loss: 0.0526\n",
      "Epoch 71/125\n",
      "\u001B[1m18/18\u001B[0m \u001B[32m━━━━━━━━━━━━━━━━━━━━\u001B[0m\u001B[37m\u001B[0m \u001B[1m15s\u001B[0m 703ms/step - accuracy: 0.9807 - loss: 0.0910 - val_accuracy: 0.9062 - val_loss: 0.2955\n",
      "Epoch 72/125\n",
      "\u001B[1m18/18\u001B[0m \u001B[32m━━━━━━━━━━━━━━━━━━━━\u001B[0m\u001B[37m\u001B[0m \u001B[1m1s\u001B[0m 19ms/step - accuracy: 0.9600 - loss: 0.1229 - val_accuracy: 0.8333 - val_loss: 0.5701\n",
      "Epoch 73/125\n",
      "\u001B[1m18/18\u001B[0m \u001B[32m━━━━━━━━━━━━━━━━━━━━\u001B[0m\u001B[37m\u001B[0m \u001B[1m18s\u001B[0m 887ms/step - accuracy: 0.9792 - loss: 0.0933 - val_accuracy: 0.9375 - val_loss: 0.1918\n",
      "Epoch 74/125\n",
      "\u001B[1m18/18\u001B[0m \u001B[32m━━━━━━━━━━━━━━━━━━━━\u001B[0m\u001B[37m\u001B[0m \u001B[1m2s\u001B[0m 61ms/step - accuracy: 1.0000 - loss: 0.0579 - val_accuracy: 0.8889 - val_loss: 0.3360\n",
      "Epoch 75/125\n",
      "\u001B[1m18/18\u001B[0m \u001B[32m━━━━━━━━━━━━━━━━━━━━\u001B[0m\u001B[37m\u001B[0m \u001B[1m27s\u001B[0m 1s/step - accuracy: 0.9882 - loss: 0.0715 - val_accuracy: 0.9219 - val_loss: 0.2454\n",
      "Epoch 76/125\n",
      "\u001B[1m18/18\u001B[0m \u001B[32m━━━━━━━━━━━━━━━━━━━━\u001B[0m\u001B[37m\u001B[0m \u001B[1m1s\u001B[0m 18ms/step - accuracy: 1.0000 - loss: 0.0709 - val_accuracy: 1.0000 - val_loss: 0.1020\n",
      "Epoch 77/125\n",
      "\u001B[1m18/18\u001B[0m \u001B[32m━━━━━━━━━━━━━━━━━━━━\u001B[0m\u001B[37m\u001B[0m \u001B[1m16s\u001B[0m 767ms/step - accuracy: 0.9952 - loss: 0.0625 - val_accuracy: 0.9297 - val_loss: 0.2337\n",
      "Epoch 77: early stopping\n",
      "Restoring model weights from the end of the best epoch: 52.\n"
     ]
    }
   ],
   "execution_count": 38
  },
  {
   "cell_type": "code",
   "source": [
    "# Étape 5 : Sauvegarder le modèle\n",
    "model.save(\"actor_recognition_model_update.h5\")\n",
    "model.save('actor_recognition_model_update.keras')\n",
    "print(\"Modèle sauvegardé avec succès !\")"
   ],
   "metadata": {
    "colab": {
     "base_uri": "https://localhost:8080/",
     "height": 198
    },
    "id": "PiSPmCifHaz4",
    "executionInfo": {
     "status": "error",
     "timestamp": 1737443487128,
     "user_tz": -60,
     "elapsed": 240,
     "user": {
      "displayName": "Tom Desrumeaux",
      "userId": "17613307837492517386"
     }
    },
    "outputId": "d4a250d2-5972-480a-b60a-571965adc015",
    "ExecuteTime": {
     "end_time": "2025-01-21T10:17:21.517634Z",
     "start_time": "2025-01-21T10:17:21.139060Z"
    }
   },
   "outputs": [
    {
     "name": "stderr",
     "output_type": "stream",
     "text": [
      "WARNING:absl:You are saving your model as an HDF5 file via `model.save()` or `keras.saving.save_model(model)`. This file format is considered legacy. We recommend using instead the native Keras format, e.g. `model.save('my_model.keras')` or `keras.saving.save_model(model, 'my_model.keras')`. \n"
     ]
    },
    {
     "name": "stdout",
     "output_type": "stream",
     "text": [
      "Modèle sauvegardé avec succès !\n"
     ]
    }
   ],
   "execution_count": 41
  },
  {
   "cell_type": "markdown",
   "source": [
    "Test du modele"
   ],
   "metadata": {
    "id": "4FYX2IOjMy1r"
   }
  },
  {
   "cell_type": "code",
   "source": [
    "from tensorflow.keras.preprocessing import image\n",
    "from tensorflow.keras.models import load_model\n",
    "import numpy as np\n",
    "\n",
    "# Charger le modèle\n",
    "model = load_model(\"actor_recognition_model_night.h5\")\n",
    "\n",
    "# Charger une image de test\n",
    "img_path = \"/content/drive/MyDrive/Colab Notebooks/Data/cruise_test2.jpg\"\n",
    "img = image.load_img(img_path, target_size=(224, 224))\n",
    "img_array = image.img_to_array(img) / 255.0\n",
    "img_array = np.expand_dims(img_array, axis=0)\n",
    "\n",
    "# Prédiction\n",
    "predictions = model.predict(img_array)\n",
    "predicted_class = np.argmax(predictions)\n",
    "class_labels = list(train_generator.class_indices.keys())\n",
    "print(f\"L'acteur prédit est : {class_labels[predicted_class]}\")\n"
   ],
   "metadata": {
    "colab": {
     "base_uri": "https://localhost:8080/"
    },
    "id": "fzT6HOQQMyCH",
    "executionInfo": {
     "status": "ok",
     "timestamp": 1737446968246,
     "user_tz": -60,
     "elapsed": 2535,
     "user": {
      "displayName": "Tom Desrumeaux",
      "userId": "17613307837492517386"
     }
    },
    "outputId": "bc65a481-8bed-4e4e-d5d0-3c754048f9c2",
    "ExecuteTime": {
     "end_time": "2025-01-21T09:48:28.398980Z",
     "start_time": "2025-01-21T09:48:27.623769Z"
    }
   },
   "outputs": [
    {
     "name": "stderr",
     "output_type": "stream",
     "text": [
      "WARNING:absl:Compiled the loaded model, but the compiled metrics have yet to be built. `model.compile_metrics` will be empty until you train or evaluate the model.\n"
     ]
    },
    {
     "ename": "FileNotFoundError",
     "evalue": "[Errno 2] No such file or directory: 'C:\\\\Users\\\\33658\\\\PycharmProjects\\\\Act-O-Matic\\\\Celebrity Faces Cropped\\\\Celebrity Faces Cropped\\\\Brad Pitt002_cc1b9701.jpg'",
     "output_type": "error",
     "traceback": [
      "\u001B[1;31m---------------------------------------------------------------------------\u001B[0m",
      "\u001B[1;31mFileNotFoundError\u001B[0m                         Traceback (most recent call last)",
      "Cell \u001B[1;32mIn[29], line 10\u001B[0m\n\u001B[0;32m      8\u001B[0m \u001B[38;5;66;03m# Charger une image de test\u001B[39;00m\n\u001B[0;32m      9\u001B[0m img_path \u001B[38;5;241m=\u001B[39m \u001B[38;5;124mr\u001B[39m\u001B[38;5;124m\"\u001B[39m\u001B[38;5;124mC:\u001B[39m\u001B[38;5;124m\\\u001B[39m\u001B[38;5;124mUsers\u001B[39m\u001B[38;5;124m\\\u001B[39m\u001B[38;5;124m33658\u001B[39m\u001B[38;5;124m\\\u001B[39m\u001B[38;5;124mPycharmProjects\u001B[39m\u001B[38;5;124m\\\u001B[39m\u001B[38;5;124mAct-O-Matic\u001B[39m\u001B[38;5;124m\\\u001B[39m\u001B[38;5;124mCelebrity Faces Cropped\u001B[39m\u001B[38;5;124m\\\u001B[39m\u001B[38;5;124mCelebrity Faces Cropped\u001B[39m\u001B[38;5;124m\\\u001B[39m\u001B[38;5;124mBrad Pitt002_cc1b9701.jpg\u001B[39m\u001B[38;5;124m\"\u001B[39m\n\u001B[1;32m---> 10\u001B[0m img \u001B[38;5;241m=\u001B[39m \u001B[43mimage\u001B[49m\u001B[38;5;241;43m.\u001B[39;49m\u001B[43mload_img\u001B[49m\u001B[43m(\u001B[49m\u001B[43mimg_path\u001B[49m\u001B[43m,\u001B[49m\u001B[43m \u001B[49m\u001B[43mtarget_size\u001B[49m\u001B[38;5;241;43m=\u001B[39;49m\u001B[43m(\u001B[49m\u001B[38;5;241;43m224\u001B[39;49m\u001B[43m,\u001B[49m\u001B[43m \u001B[49m\u001B[38;5;241;43m224\u001B[39;49m\u001B[43m)\u001B[49m\u001B[43m)\u001B[49m\n\u001B[0;32m     11\u001B[0m img_array \u001B[38;5;241m=\u001B[39m image\u001B[38;5;241m.\u001B[39mimg_to_array(img) \u001B[38;5;241m/\u001B[39m \u001B[38;5;241m255.0\u001B[39m\n\u001B[0;32m     12\u001B[0m img_array \u001B[38;5;241m=\u001B[39m np\u001B[38;5;241m.\u001B[39mexpand_dims(img_array, axis\u001B[38;5;241m=\u001B[39m\u001B[38;5;241m0\u001B[39m)\n",
      "File \u001B[1;32m~\\AppData\\Local\\Programs\\Python\\Python312\\Lib\\site-packages\\keras\\src\\utils\\image_utils.py:235\u001B[0m, in \u001B[0;36mload_img\u001B[1;34m(path, color_mode, target_size, interpolation, keep_aspect_ratio)\u001B[0m\n\u001B[0;32m    233\u001B[0m     \u001B[38;5;28;01mif\u001B[39;00m \u001B[38;5;28misinstance\u001B[39m(path, pathlib\u001B[38;5;241m.\u001B[39mPath):\n\u001B[0;32m    234\u001B[0m         path \u001B[38;5;241m=\u001B[39m \u001B[38;5;28mstr\u001B[39m(path\u001B[38;5;241m.\u001B[39mresolve())\n\u001B[1;32m--> 235\u001B[0m     \u001B[38;5;28;01mwith\u001B[39;00m \u001B[38;5;28;43mopen\u001B[39;49m\u001B[43m(\u001B[49m\u001B[43mpath\u001B[49m\u001B[43m,\u001B[49m\u001B[43m \u001B[49m\u001B[38;5;124;43m\"\u001B[39;49m\u001B[38;5;124;43mrb\u001B[39;49m\u001B[38;5;124;43m\"\u001B[39;49m\u001B[43m)\u001B[49m \u001B[38;5;28;01mas\u001B[39;00m f:\n\u001B[0;32m    236\u001B[0m         img \u001B[38;5;241m=\u001B[39m pil_image\u001B[38;5;241m.\u001B[39mopen(io\u001B[38;5;241m.\u001B[39mBytesIO(f\u001B[38;5;241m.\u001B[39mread()))\n\u001B[0;32m    237\u001B[0m \u001B[38;5;28;01melse\u001B[39;00m:\n",
      "\u001B[1;31mFileNotFoundError\u001B[0m: [Errno 2] No such file or directory: 'C:\\\\Users\\\\33658\\\\PycharmProjects\\\\Act-O-Matic\\\\Celebrity Faces Cropped\\\\Celebrity Faces Cropped\\\\Brad Pitt002_cc1b9701.jpg'"
     ]
    }
   ],
   "execution_count": 29
  },
  {
   "metadata": {
    "ExecuteTime": {
     "end_time": "2025-01-21T10:27:07.547018Z",
     "start_time": "2025-01-21T10:27:01.268751Z"
    }
   },
   "cell_type": "code",
   "source": [
    "import os\n",
    "import numpy as np\n",
    "from tensorflow.keras.models import load_model\n",
    "from tensorflow.keras.preprocessing import image\n",
    "from tensorflow.keras.preprocessing.image import ImageDataGenerator\n",
    "\n",
    "# Charger le modèle\n",
    "model = load_model(\"actor_recognition_model_update.h5\")\n",
    "\n",
    "# Recompiler le modèle (si nécessaire)\n",
    "model.compile(optimizer=\"adam\", loss=\"categorical_crossentropy\", metrics=[\"accuracy\"])\n",
    "\n",
    "# Configurer les chemins\n",
    "train_directory = r\"C:\\Users\\33658\\Documents\\Celebrity Faces Cropped\"  # Dossier utilisé pour l'entraînement\n",
    "test_directory = r\"C:\\Users\\33658\\Documents\\Celebrity Faces Cropped\\Johnny Depp\"  # Dossier de test\n",
    "image_size = (224, 224)  # Taille d'entrée des images\n",
    "\n",
    "# Récupérer les noms des classes depuis les sous-dossiers\n",
    "datagen = ImageDataGenerator(rescale=1.0 / 255)\n",
    "generator = datagen.flow_from_directory(\n",
    "    train_directory,\n",
    "    target_size=image_size,\n",
    "    batch_size=32,\n",
    "    class_mode=\"categorical\"\n",
    ")\n",
    "class_labels = list(generator.class_indices.keys())  # Liste des noms de classes\n",
    "print(f\"Classes détectées : {class_labels}\")\n",
    "\n",
    "# Fonction pour prédire une image\n",
    "def predict_image(image_path, model):\n",
    "    # Charger et prétraiter l'image\n",
    "    img = image.load_img(image_path, target_size=image_size)\n",
    "    img_array = image.img_to_array(img) / 255.0\n",
    "    img_array = np.expand_dims(img_array, axis=0)\n",
    "\n",
    "    # Faire une prédiction\n",
    "    predictions = model.predict(img_array)\n",
    "    predicted_class = np.argmax(predictions)\n",
    "    confidence = predictions[0][predicted_class]\n",
    "\n",
    "    return predicted_class, confidence\n",
    "\n",
    "# Évaluer les performances globales\n",
    "correct_predictions = 0\n",
    "total_images = 0\n",
    "\n",
    "# Parcourir les images du dossier et faire des prédictions\n",
    "for img_name in os.listdir(test_directory):\n",
    "    img_path = os.path.join(test_directory, img_name)\n",
    "\n",
    "    # Vérifier que le fichier est une image\n",
    "    if img_name.lower().endswith((\".png\", \".jpg\", \".jpeg\")):\n",
    "        predicted_class, confidence = predict_image(img_path, model)\n",
    "        true_class = class_labels.index(\"Johnny Depp\")  # Remplacer par la classe correcte pour ce dossier\n",
    "\n",
    "        if predicted_class == true_class:\n",
    "            correct_predictions += 1\n",
    "        total_images += 1\n",
    "\n",
    "        print(f\"Image: {img_name} => Acteur prédit: {class_labels[predicted_class]} (Confiance: {confidence:.2f})\")\n",
    "    else:\n",
    "        print(f\"Fichier ignoré : {img_name}\")\n",
    "\n",
    "# Calculer et afficher la performance globale\n",
    "accuracy = (correct_predictions / total_images) * 100 if total_images > 0 else 0\n",
    "print(f\"Total d'images évaluées : {total_images}\")\n",
    "print(f\"Prédictions correctes : {correct_predictions}\")\n",
    "print(f\"Précision globale : {accuracy:.2f}%\")\n"
   ],
   "outputs": [
    {
     "name": "stderr",
     "output_type": "stream",
     "text": [
      "WARNING:absl:Compiled the loaded model, but the compiled metrics have yet to be built. `model.compile_metrics` will be empty until you train or evaluate the model.\n"
     ]
    },
    {
     "name": "stdout",
     "output_type": "stream",
     "text": [
      "Found 747 images belonging to 9 classes.\n",
      "Classes détectées : ['Brad Pitt', 'Hugh Jackman', 'Johnny Depp', 'Leonardo DiCaprio', 'Natalie Portman', 'Robert Downey Jr', 'Tom Cruise', 'Tom Hanks', 'Will Smith']\n",
      "\u001B[1m1/1\u001B[0m \u001B[32m━━━━━━━━━━━━━━━━━━━━\u001B[0m\u001B[37m\u001B[0m \u001B[1m1s\u001B[0m 786ms/step\n",
      "Image: 001_2288a4f6.jpg => Acteur prédit: Johnny Depp (Confiance: 1.00)\n",
      "\u001B[1m1/1\u001B[0m \u001B[32m━━━━━━━━━━━━━━━━━━━━\u001B[0m\u001B[37m\u001B[0m \u001B[1m0s\u001B[0m 28ms/step\n",
      "Image: 002_331d0423.jpg => Acteur prédit: Johnny Depp (Confiance: 0.66)\n",
      "\u001B[1m1/1\u001B[0m \u001B[32m━━━━━━━━━━━━━━━━━━━━\u001B[0m\u001B[37m\u001B[0m \u001B[1m0s\u001B[0m 27ms/step\n",
      "Image: 003_64926b97.jpg => Acteur prédit: Johnny Depp (Confiance: 0.92)\n",
      "\u001B[1m1/1\u001B[0m \u001B[32m━━━━━━━━━━━━━━━━━━━━\u001B[0m\u001B[37m\u001B[0m \u001B[1m0s\u001B[0m 27ms/step\n",
      "Image: 005_9406f32d.jpg => Acteur prédit: Johnny Depp (Confiance: 0.98)\n",
      "\u001B[1m1/1\u001B[0m \u001B[32m━━━━━━━━━━━━━━━━━━━━\u001B[0m\u001B[37m\u001B[0m \u001B[1m0s\u001B[0m 25ms/step\n",
      "Image: 006_8fc31fd7.jpg => Acteur prédit: Johnny Depp (Confiance: 0.99)\n",
      "\u001B[1m1/1\u001B[0m \u001B[32m━━━━━━━━━━━━━━━━━━━━\u001B[0m\u001B[37m\u001B[0m \u001B[1m0s\u001B[0m 27ms/step\n",
      "Image: 007_1bc0bcd6.jpg => Acteur prédit: Johnny Depp (Confiance: 0.79)\n",
      "\u001B[1m1/1\u001B[0m \u001B[32m━━━━━━━━━━━━━━━━━━━━\u001B[0m\u001B[37m\u001B[0m \u001B[1m0s\u001B[0m 27ms/step\n",
      "Image: 008_35d1be70.jpg => Acteur prédit: Johnny Depp (Confiance: 0.96)\n",
      "\u001B[1m1/1\u001B[0m \u001B[32m━━━━━━━━━━━━━━━━━━━━\u001B[0m\u001B[37m\u001B[0m \u001B[1m0s\u001B[0m 29ms/step\n",
      "Image: 009_f4a38fec.jpg => Acteur prédit: Johnny Depp (Confiance: 0.76)\n",
      "\u001B[1m1/1\u001B[0m \u001B[32m━━━━━━━━━━━━━━━━━━━━\u001B[0m\u001B[37m\u001B[0m \u001B[1m0s\u001B[0m 28ms/step\n",
      "Image: 010_610eea60.jpg => Acteur prédit: Hugh Jackman (Confiance: 0.65)\n",
      "\u001B[1m1/1\u001B[0m \u001B[32m━━━━━━━━━━━━━━━━━━━━\u001B[0m\u001B[37m\u001B[0m \u001B[1m0s\u001B[0m 29ms/step\n",
      "Image: 011_c826a613.jpg => Acteur prédit: Johnny Depp (Confiance: 0.99)\n",
      "\u001B[1m1/1\u001B[0m \u001B[32m━━━━━━━━━━━━━━━━━━━━\u001B[0m\u001B[37m\u001B[0m \u001B[1m0s\u001B[0m 31ms/step\n",
      "Image: 012_563f0843.jpg => Acteur prédit: Johnny Depp (Confiance: 0.86)\n",
      "\u001B[1m1/1\u001B[0m \u001B[32m━━━━━━━━━━━━━━━━━━━━\u001B[0m\u001B[37m\u001B[0m \u001B[1m0s\u001B[0m 29ms/step\n",
      "Image: 013_f44c68a1.jpg => Acteur prédit: Johnny Depp (Confiance: 0.66)\n",
      "\u001B[1m1/1\u001B[0m \u001B[32m━━━━━━━━━━━━━━━━━━━━\u001B[0m\u001B[37m\u001B[0m \u001B[1m0s\u001B[0m 28ms/step\n",
      "Image: 014_68248214.jpg => Acteur prédit: Johnny Depp (Confiance: 0.82)\n",
      "\u001B[1m1/1\u001B[0m \u001B[32m━━━━━━━━━━━━━━━━━━━━\u001B[0m\u001B[37m\u001B[0m \u001B[1m0s\u001B[0m 28ms/step\n",
      "Image: 015_0474556e.jpg => Acteur prédit: Johnny Depp (Confiance: 0.89)\n",
      "\u001B[1m1/1\u001B[0m \u001B[32m━━━━━━━━━━━━━━━━━━━━\u001B[0m\u001B[37m\u001B[0m \u001B[1m0s\u001B[0m 32ms/step\n",
      "Image: 016_8b4d3698.jpg => Acteur prédit: Johnny Depp (Confiance: 0.99)\n",
      "\u001B[1m1/1\u001B[0m \u001B[32m━━━━━━━━━━━━━━━━━━━━\u001B[0m\u001B[37m\u001B[0m \u001B[1m0s\u001B[0m 31ms/step\n",
      "Image: 017_aadefe7b.jpg => Acteur prédit: Johnny Depp (Confiance: 0.86)\n",
      "\u001B[1m1/1\u001B[0m \u001B[32m━━━━━━━━━━━━━━━━━━━━\u001B[0m\u001B[37m\u001B[0m \u001B[1m0s\u001B[0m 29ms/step\n",
      "Image: 018_14e5366f.jpg => Acteur prédit: Johnny Depp (Confiance: 0.52)\n",
      "\u001B[1m1/1\u001B[0m \u001B[32m━━━━━━━━━━━━━━━━━━━━\u001B[0m\u001B[37m\u001B[0m \u001B[1m0s\u001B[0m 27ms/step\n",
      "Image: 019_3eb26944.jpg => Acteur prédit: Johnny Depp (Confiance: 0.81)\n",
      "\u001B[1m1/1\u001B[0m \u001B[32m━━━━━━━━━━━━━━━━━━━━\u001B[0m\u001B[37m\u001B[0m \u001B[1m0s\u001B[0m 34ms/step\n",
      "Image: 020_6b7d8470.jpg => Acteur prédit: Johnny Depp (Confiance: 0.98)\n",
      "\u001B[1m1/1\u001B[0m \u001B[32m━━━━━━━━━━━━━━━━━━━━\u001B[0m\u001B[37m\u001B[0m \u001B[1m0s\u001B[0m 31ms/step\n",
      "Image: 021_9ab18f1b.jpg => Acteur prédit: Johnny Depp (Confiance: 0.98)\n",
      "\u001B[1m1/1\u001B[0m \u001B[32m━━━━━━━━━━━━━━━━━━━━\u001B[0m\u001B[37m\u001B[0m \u001B[1m0s\u001B[0m 32ms/step\n",
      "Image: 022_a0763313.jpg => Acteur prédit: Johnny Depp (Confiance: 0.64)\n",
      "\u001B[1m1/1\u001B[0m \u001B[32m━━━━━━━━━━━━━━━━━━━━\u001B[0m\u001B[37m\u001B[0m \u001B[1m0s\u001B[0m 29ms/step\n",
      "Image: 023_4e454f96.jpg => Acteur prédit: Johnny Depp (Confiance: 0.69)\n",
      "\u001B[1m1/1\u001B[0m \u001B[32m━━━━━━━━━━━━━━━━━━━━\u001B[0m\u001B[37m\u001B[0m \u001B[1m0s\u001B[0m 26ms/step\n",
      "Image: 024_bfac5f5b.jpg => Acteur prédit: Johnny Depp (Confiance: 0.99)\n",
      "\u001B[1m1/1\u001B[0m \u001B[32m━━━━━━━━━━━━━━━━━━━━\u001B[0m\u001B[37m\u001B[0m \u001B[1m0s\u001B[0m 31ms/step\n",
      "Image: 025_4f2ec7c1.jpg => Acteur prédit: Johnny Depp (Confiance: 0.85)\n",
      "\u001B[1m1/1\u001B[0m \u001B[32m━━━━━━━━━━━━━━━━━━━━\u001B[0m\u001B[37m\u001B[0m \u001B[1m0s\u001B[0m 28ms/step\n",
      "Image: 026_20c41942.jpg => Acteur prédit: Johnny Depp (Confiance: 0.89)\n",
      "\u001B[1m1/1\u001B[0m \u001B[32m━━━━━━━━━━━━━━━━━━━━\u001B[0m\u001B[37m\u001B[0m \u001B[1m0s\u001B[0m 26ms/step\n",
      "Image: 027_2eab41f9.jpg => Acteur prédit: Johnny Depp (Confiance: 1.00)\n",
      "\u001B[1m1/1\u001B[0m \u001B[32m━━━━━━━━━━━━━━━━━━━━\u001B[0m\u001B[37m\u001B[0m \u001B[1m0s\u001B[0m 30ms/step\n",
      "Image: 029_30aec656.jpg => Acteur prédit: Johnny Depp (Confiance: 1.00)\n",
      "\u001B[1m1/1\u001B[0m \u001B[32m━━━━━━━━━━━━━━━━━━━━\u001B[0m\u001B[37m\u001B[0m \u001B[1m0s\u001B[0m 28ms/step\n",
      "Image: 030_ddacf348.jpg => Acteur prédit: Johnny Depp (Confiance: 0.98)\n",
      "\u001B[1m1/1\u001B[0m \u001B[32m━━━━━━━━━━━━━━━━━━━━\u001B[0m\u001B[37m\u001B[0m \u001B[1m0s\u001B[0m 28ms/step\n",
      "Image: 031_86ed9fca.jpg => Acteur prédit: Johnny Depp (Confiance: 0.93)\n",
      "\u001B[1m1/1\u001B[0m \u001B[32m━━━━━━━━━━━━━━━━━━━━\u001B[0m\u001B[37m\u001B[0m \u001B[1m0s\u001B[0m 30ms/step\n",
      "Image: 032_4b3ee537.jpg => Acteur prédit: Johnny Depp (Confiance: 0.99)\n",
      "\u001B[1m1/1\u001B[0m \u001B[32m━━━━━━━━━━━━━━━━━━━━\u001B[0m\u001B[37m\u001B[0m \u001B[1m0s\u001B[0m 27ms/step\n",
      "Image: 033_ef398d45.jpg => Acteur prédit: Johnny Depp (Confiance: 1.00)\n",
      "\u001B[1m1/1\u001B[0m \u001B[32m━━━━━━━━━━━━━━━━━━━━\u001B[0m\u001B[37m\u001B[0m \u001B[1m0s\u001B[0m 27ms/step\n",
      "Image: 034_52d180f0.jpg => Acteur prédit: Johnny Depp (Confiance: 1.00)\n",
      "\u001B[1m1/1\u001B[0m \u001B[32m━━━━━━━━━━━━━━━━━━━━\u001B[0m\u001B[37m\u001B[0m \u001B[1m0s\u001B[0m 30ms/step\n",
      "Image: 035_2a1b8bcf.jpg => Acteur prédit: Johnny Depp (Confiance: 0.98)\n",
      "\u001B[1m1/1\u001B[0m \u001B[32m━━━━━━━━━━━━━━━━━━━━\u001B[0m\u001B[37m\u001B[0m \u001B[1m0s\u001B[0m 29ms/step\n",
      "Image: 037_f2fb045b.jpg => Acteur prédit: Johnny Depp (Confiance: 0.95)\n",
      "\u001B[1m1/1\u001B[0m \u001B[32m━━━━━━━━━━━━━━━━━━━━\u001B[0m\u001B[37m\u001B[0m \u001B[1m0s\u001B[0m 35ms/step\n",
      "Image: 038_081386a5.jpg => Acteur prédit: Johnny Depp (Confiance: 0.96)\n",
      "\u001B[1m1/1\u001B[0m \u001B[32m━━━━━━━━━━━━━━━━━━━━\u001B[0m\u001B[37m\u001B[0m \u001B[1m0s\u001B[0m 29ms/step\n",
      "Image: 039_13af66c8.jpg => Acteur prédit: Johnny Depp (Confiance: 1.00)\n",
      "\u001B[1m1/1\u001B[0m \u001B[32m━━━━━━━━━━━━━━━━━━━━\u001B[0m\u001B[37m\u001B[0m \u001B[1m0s\u001B[0m 33ms/step\n",
      "Image: 040_2e8934ea.jpg => Acteur prédit: Johnny Depp (Confiance: 0.99)\n",
      "\u001B[1m1/1\u001B[0m \u001B[32m━━━━━━━━━━━━━━━━━━━━\u001B[0m\u001B[37m\u001B[0m \u001B[1m0s\u001B[0m 30ms/step\n",
      "Image: 041_6ec992c9.jpg => Acteur prédit: Johnny Depp (Confiance: 0.94)\n",
      "\u001B[1m1/1\u001B[0m \u001B[32m━━━━━━━━━━━━━━━━━━━━\u001B[0m\u001B[37m\u001B[0m \u001B[1m0s\u001B[0m 27ms/step\n",
      "Image: 044_18b89b8d.jpg => Acteur prédit: Johnny Depp (Confiance: 0.70)\n",
      "\u001B[1m1/1\u001B[0m \u001B[32m━━━━━━━━━━━━━━━━━━━━\u001B[0m\u001B[37m\u001B[0m \u001B[1m0s\u001B[0m 28ms/step\n",
      "Image: 045_865604b0.jpg => Acteur prédit: Johnny Depp (Confiance: 0.98)\n",
      "\u001B[1m1/1\u001B[0m \u001B[32m━━━━━━━━━━━━━━━━━━━━\u001B[0m\u001B[37m\u001B[0m \u001B[1m0s\u001B[0m 26ms/step\n",
      "Image: 046_31d6a7d8.jpg => Acteur prédit: Johnny Depp (Confiance: 0.81)\n",
      "\u001B[1m1/1\u001B[0m \u001B[32m━━━━━━━━━━━━━━━━━━━━\u001B[0m\u001B[37m\u001B[0m \u001B[1m0s\u001B[0m 26ms/step\n",
      "Image: 047_6c6a66d2.jpg => Acteur prédit: Johnny Depp (Confiance: 0.99)\n",
      "\u001B[1m1/1\u001B[0m \u001B[32m━━━━━━━━━━━━━━━━━━━━\u001B[0m\u001B[37m\u001B[0m \u001B[1m0s\u001B[0m 28ms/step\n",
      "Image: 048_8af82c54.jpg => Acteur prédit: Johnny Depp (Confiance: 0.98)\n",
      "\u001B[1m1/1\u001B[0m \u001B[32m━━━━━━━━━━━━━━━━━━━━\u001B[0m\u001B[37m\u001B[0m \u001B[1m0s\u001B[0m 28ms/step\n",
      "Image: 049_9254f6f2.jpg => Acteur prédit: Johnny Depp (Confiance: 0.99)\n",
      "\u001B[1m1/1\u001B[0m \u001B[32m━━━━━━━━━━━━━━━━━━━━\u001B[0m\u001B[37m\u001B[0m \u001B[1m0s\u001B[0m 28ms/step\n",
      "Image: 050_6641bd32.jpg => Acteur prédit: Johnny Depp (Confiance: 0.97)\n",
      "\u001B[1m1/1\u001B[0m \u001B[32m━━━━━━━━━━━━━━━━━━━━\u001B[0m\u001B[37m\u001B[0m \u001B[1m0s\u001B[0m 26ms/step\n",
      "Image: 051_2505e244.jpg => Acteur prédit: Johnny Depp (Confiance: 0.97)\n",
      "\u001B[1m1/1\u001B[0m \u001B[32m━━━━━━━━━━━━━━━━━━━━\u001B[0m\u001B[37m\u001B[0m \u001B[1m0s\u001B[0m 27ms/step\n",
      "Image: 052_e2e5ef6b.jpg => Acteur prédit: Johnny Depp (Confiance: 0.98)\n",
      "\u001B[1m1/1\u001B[0m \u001B[32m━━━━━━━━━━━━━━━━━━━━\u001B[0m\u001B[37m\u001B[0m \u001B[1m0s\u001B[0m 28ms/step\n",
      "Image: 053_5b42d9d9.jpg => Acteur prédit: Johnny Depp (Confiance: 0.71)\n",
      "\u001B[1m1/1\u001B[0m \u001B[32m━━━━━━━━━━━━━━━━━━━━\u001B[0m\u001B[37m\u001B[0m \u001B[1m0s\u001B[0m 27ms/step\n",
      "Image: 054_50f42b56.jpg => Acteur prédit: Johnny Depp (Confiance: 0.87)\n",
      "\u001B[1m1/1\u001B[0m \u001B[32m━━━━━━━━━━━━━━━━━━━━\u001B[0m\u001B[37m\u001B[0m \u001B[1m0s\u001B[0m 30ms/step\n",
      "Image: 055_cf9af56c.jpg => Acteur prédit: Johnny Depp (Confiance: 0.74)\n",
      "\u001B[1m1/1\u001B[0m \u001B[32m━━━━━━━━━━━━━━━━━━━━\u001B[0m\u001B[37m\u001B[0m \u001B[1m0s\u001B[0m 28ms/step\n",
      "Image: 056_c5e6243c.jpg => Acteur prédit: Johnny Depp (Confiance: 0.99)\n",
      "\u001B[1m1/1\u001B[0m \u001B[32m━━━━━━━━━━━━━━━━━━━━\u001B[0m\u001B[37m\u001B[0m \u001B[1m0s\u001B[0m 29ms/step\n",
      "Image: 057_ee633567.jpg => Acteur prédit: Johnny Depp (Confiance: 0.89)\n",
      "\u001B[1m1/1\u001B[0m \u001B[32m━━━━━━━━━━━━━━━━━━━━\u001B[0m\u001B[37m\u001B[0m \u001B[1m0s\u001B[0m 30ms/step\n",
      "Image: 058_7e4aeab8.jpg => Acteur prédit: Johnny Depp (Confiance: 0.94)\n",
      "\u001B[1m1/1\u001B[0m \u001B[32m━━━━━━━━━━━━━━━━━━━━\u001B[0m\u001B[37m\u001B[0m \u001B[1m0s\u001B[0m 29ms/step\n",
      "Image: 059_27a0e6f1.jpg => Acteur prédit: Johnny Depp (Confiance: 0.95)\n",
      "\u001B[1m1/1\u001B[0m \u001B[32m━━━━━━━━━━━━━━━━━━━━\u001B[0m\u001B[37m\u001B[0m \u001B[1m0s\u001B[0m 29ms/step\n",
      "Image: 060_3cf86eaf.jpg => Acteur prédit: Johnny Depp (Confiance: 0.83)\n",
      "\u001B[1m1/1\u001B[0m \u001B[32m━━━━━━━━━━━━━━━━━━━━\u001B[0m\u001B[37m\u001B[0m \u001B[1m0s\u001B[0m 28ms/step\n",
      "Image: 061_4544a552.jpg => Acteur prédit: Johnny Depp (Confiance: 0.86)\n",
      "\u001B[1m1/1\u001B[0m \u001B[32m━━━━━━━━━━━━━━━━━━━━\u001B[0m\u001B[37m\u001B[0m \u001B[1m0s\u001B[0m 29ms/step\n",
      "Image: 062_23b3470a.jpg => Acteur prédit: Johnny Depp (Confiance: 0.98)\n",
      "\u001B[1m1/1\u001B[0m \u001B[32m━━━━━━━━━━━━━━━━━━━━\u001B[0m\u001B[37m\u001B[0m \u001B[1m0s\u001B[0m 28ms/step\n",
      "Image: 066_653f2a94.jpg => Acteur prédit: Johnny Depp (Confiance: 0.99)\n",
      "\u001B[1m1/1\u001B[0m \u001B[32m━━━━━━━━━━━━━━━━━━━━\u001B[0m\u001B[37m\u001B[0m \u001B[1m0s\u001B[0m 29ms/step\n",
      "Image: 067_5234e510.jpg => Acteur prédit: Johnny Depp (Confiance: 0.98)\n",
      "\u001B[1m1/1\u001B[0m \u001B[32m━━━━━━━━━━━━━━━━━━━━\u001B[0m\u001B[37m\u001B[0m \u001B[1m0s\u001B[0m 26ms/step\n",
      "Image: 068_006344c5.jpg => Acteur prédit: Johnny Depp (Confiance: 0.93)\n",
      "\u001B[1m1/1\u001B[0m \u001B[32m━━━━━━━━━━━━━━━━━━━━\u001B[0m\u001B[37m\u001B[0m \u001B[1m0s\u001B[0m 34ms/step\n",
      "Image: 069_2b2270ce.jpg => Acteur prédit: Johnny Depp (Confiance: 0.97)\n",
      "\u001B[1m1/1\u001B[0m \u001B[32m━━━━━━━━━━━━━━━━━━━━\u001B[0m\u001B[37m\u001B[0m \u001B[1m0s\u001B[0m 30ms/step\n",
      "Image: 070_1e22daa2.jpg => Acteur prédit: Johnny Depp (Confiance: 0.99)\n",
      "\u001B[1m1/1\u001B[0m \u001B[32m━━━━━━━━━━━━━━━━━━━━\u001B[0m\u001B[37m\u001B[0m \u001B[1m0s\u001B[0m 28ms/step\n",
      "Image: 071_d3036d43.jpg => Acteur prédit: Johnny Depp (Confiance: 0.92)\n",
      "\u001B[1m1/1\u001B[0m \u001B[32m━━━━━━━━━━━━━━━━━━━━\u001B[0m\u001B[37m\u001B[0m \u001B[1m0s\u001B[0m 29ms/step\n",
      "Image: 072_f2c8b6e9.jpg => Acteur prédit: Johnny Depp (Confiance: 0.87)\n",
      "\u001B[1m1/1\u001B[0m \u001B[32m━━━━━━━━━━━━━━━━━━━━\u001B[0m\u001B[37m\u001B[0m \u001B[1m0s\u001B[0m 33ms/step\n",
      "Image: 073_71584704.jpg => Acteur prédit: Johnny Depp (Confiance: 0.94)\n",
      "\u001B[1m1/1\u001B[0m \u001B[32m━━━━━━━━━━━━━━━━━━━━\u001B[0m\u001B[37m\u001B[0m \u001B[1m0s\u001B[0m 34ms/step\n",
      "Image: 074_bd6f3a84.jpg => Acteur prédit: Johnny Depp (Confiance: 1.00)\n",
      "\u001B[1m1/1\u001B[0m \u001B[32m━━━━━━━━━━━━━━━━━━━━\u001B[0m\u001B[37m\u001B[0m \u001B[1m0s\u001B[0m 26ms/step\n",
      "Image: 075_21e87f0f.jpg => Acteur prédit: Johnny Depp (Confiance: 0.97)\n",
      "\u001B[1m1/1\u001B[0m \u001B[32m━━━━━━━━━━━━━━━━━━━━\u001B[0m\u001B[37m\u001B[0m \u001B[1m0s\u001B[0m 31ms/step\n",
      "Image: 076_b28d1fac.jpg => Acteur prédit: Johnny Depp (Confiance: 0.94)\n",
      "\u001B[1m1/1\u001B[0m \u001B[32m━━━━━━━━━━━━━━━━━━━━\u001B[0m\u001B[37m\u001B[0m \u001B[1m0s\u001B[0m 31ms/step\n",
      "Image: 077_5cbf1ecc.jpg => Acteur prédit: Johnny Depp (Confiance: 0.97)\n",
      "\u001B[1m1/1\u001B[0m \u001B[32m━━━━━━━━━━━━━━━━━━━━\u001B[0m\u001B[37m\u001B[0m \u001B[1m0s\u001B[0m 31ms/step\n",
      "Image: 078_b7114bcb.jpg => Acteur prédit: Johnny Depp (Confiance: 0.98)\n",
      "\u001B[1m1/1\u001B[0m \u001B[32m━━━━━━━━━━━━━━━━━━━━\u001B[0m\u001B[37m\u001B[0m \u001B[1m0s\u001B[0m 29ms/step\n",
      "Image: 079_241963dc.jpg => Acteur prédit: Johnny Depp (Confiance: 1.00)\n",
      "\u001B[1m1/1\u001B[0m \u001B[32m━━━━━━━━━━━━━━━━━━━━\u001B[0m\u001B[37m\u001B[0m \u001B[1m0s\u001B[0m 29ms/step\n",
      "Image: 080_38c2109a.jpg => Acteur prédit: Johnny Depp (Confiance: 1.00)\n",
      "\u001B[1m1/1\u001B[0m \u001B[32m━━━━━━━━━━━━━━━━━━━━\u001B[0m\u001B[37m\u001B[0m \u001B[1m0s\u001B[0m 28ms/step\n",
      "Image: 082_742073a1.jpg => Acteur prédit: Johnny Depp (Confiance: 0.98)\n",
      "\u001B[1m1/1\u001B[0m \u001B[32m━━━━━━━━━━━━━━━━━━━━\u001B[0m\u001B[37m\u001B[0m \u001B[1m0s\u001B[0m 32ms/step\n",
      "Image: 084_3dcf601a.jpg => Acteur prédit: Johnny Depp (Confiance: 0.95)\n",
      "\u001B[1m1/1\u001B[0m \u001B[32m━━━━━━━━━━━━━━━━━━━━\u001B[0m\u001B[37m\u001B[0m \u001B[1m0s\u001B[0m 31ms/step\n",
      "Image: 085_e9f6ea07.jpg => Acteur prédit: Johnny Depp (Confiance: 0.89)\n",
      "\u001B[1m1/1\u001B[0m \u001B[32m━━━━━━━━━━━━━━━━━━━━\u001B[0m\u001B[37m\u001B[0m \u001B[1m0s\u001B[0m 33ms/step\n",
      "Image: 086_f052c533.jpg => Acteur prédit: Johnny Depp (Confiance: 0.58)\n",
      "\u001B[1m1/1\u001B[0m \u001B[32m━━━━━━━━━━━━━━━━━━━━\u001B[0m\u001B[37m\u001B[0m \u001B[1m0s\u001B[0m 36ms/step\n",
      "Image: 087_f9794152.jpg => Acteur prédit: Johnny Depp (Confiance: 0.88)\n",
      "\u001B[1m1/1\u001B[0m \u001B[32m━━━━━━━━━━━━━━━━━━━━\u001B[0m\u001B[37m\u001B[0m \u001B[1m0s\u001B[0m 35ms/step\n",
      "Image: 088_1fcc7b2c.jpg => Acteur prédit: Johnny Depp (Confiance: 0.99)\n",
      "\u001B[1m1/1\u001B[0m \u001B[32m━━━━━━━━━━━━━━━━━━━━\u001B[0m\u001B[37m\u001B[0m \u001B[1m0s\u001B[0m 33ms/step\n",
      "Image: 089_2f2e823a.jpg => Acteur prédit: Johnny Depp (Confiance: 0.46)\n",
      "\u001B[1m1/1\u001B[0m \u001B[32m━━━━━━━━━━━━━━━━━━━━\u001B[0m\u001B[37m\u001B[0m \u001B[1m0s\u001B[0m 31ms/step\n",
      "Image: 090_c5d1d9eb.jpg => Acteur prédit: Johnny Depp (Confiance: 0.80)\n",
      "\u001B[1m1/1\u001B[0m \u001B[32m━━━━━━━━━━━━━━━━━━━━\u001B[0m\u001B[37m\u001B[0m \u001B[1m0s\u001B[0m 31ms/step\n",
      "Image: 091_c3ad83af.jpg => Acteur prédit: Johnny Depp (Confiance: 0.78)\n",
      "\u001B[1m1/1\u001B[0m \u001B[32m━━━━━━━━━━━━━━━━━━━━\u001B[0m\u001B[37m\u001B[0m \u001B[1m0s\u001B[0m 26ms/step\n",
      "Image: 093_8cb84a89.jpg => Acteur prédit: Tom Cruise (Confiance: 0.56)\n",
      "\u001B[1m1/1\u001B[0m \u001B[32m━━━━━━━━━━━━━━━━━━━━\u001B[0m\u001B[37m\u001B[0m \u001B[1m0s\u001B[0m 29ms/step\n",
      "Image: 094_42a45a8d.jpg => Acteur prédit: Johnny Depp (Confiance: 0.86)\n",
      "\u001B[1m1/1\u001B[0m \u001B[32m━━━━━━━━━━━━━━━━━━━━\u001B[0m\u001B[37m\u001B[0m \u001B[1m0s\u001B[0m 26ms/step\n",
      "Image: 095_233dc3f2.jpg => Acteur prédit: Johnny Depp (Confiance: 0.87)\n",
      "\u001B[1m1/1\u001B[0m \u001B[32m━━━━━━━━━━━━━━━━━━━━\u001B[0m\u001B[37m\u001B[0m \u001B[1m0s\u001B[0m 28ms/step\n",
      "Image: 097_11415581.jpg => Acteur prédit: Johnny Depp (Confiance: 0.94)\n",
      "\u001B[1m1/1\u001B[0m \u001B[32m━━━━━━━━━━━━━━━━━━━━\u001B[0m\u001B[37m\u001B[0m \u001B[1m0s\u001B[0m 27ms/step\n",
      "Image: 098_16b30dda.jpg => Acteur prédit: Johnny Depp (Confiance: 1.00)\n",
      "\u001B[1m1/1\u001B[0m \u001B[32m━━━━━━━━━━━━━━━━━━━━\u001B[0m\u001B[37m\u001B[0m \u001B[1m0s\u001B[0m 28ms/step\n",
      "Image: 099_d88c0793.jpg => Acteur prédit: Johnny Depp (Confiance: 0.96)\n",
      "\u001B[1m1/1\u001B[0m \u001B[32m━━━━━━━━━━━━━━━━━━━━\u001B[0m\u001B[37m\u001B[0m \u001B[1m0s\u001B[0m 26ms/step\n",
      "Image: 100_120c14bc.jpg => Acteur prédit: Johnny Depp (Confiance: 0.98)\n",
      "Total d'images évaluées : 88\n",
      "Prédictions correctes : 86\n",
      "Précision globale : 97.73%\n"
     ]
    }
   ],
   "execution_count": 47
  }
 ]
}
